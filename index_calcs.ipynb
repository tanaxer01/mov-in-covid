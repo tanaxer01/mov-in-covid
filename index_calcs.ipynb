{
  "cells": [
    {
      "cell_type": "code",
      "execution_count": 35,
      "id": "4c87beea",
      "metadata": {
        "id": "4c87beea"
      },
      "outputs": [],
      "source": [
        "!if [ ! -d mov-in-covid ]; then \\\n",
        "  git clone https://github.com/tanaxer01/mov-in-covid; \\\n",
        "  mv mov-in-covid/*.py .; fi\n",
        "\n",
        "from datetime import datetime\n",
        "import matplotlib.pyplot as plt\n",
        "import pandas as pd\n",
        "import numpy  as np\n",
        "import utils"
      ]
    },
    {
      "cell_type": "code",
      "source": [
        "datasets = {\n",
        "  # DP51\n",
        "  \"dp51_difs\": \"https://raw.githubusercontent.com/MinCiencia/Datos-COVID19/master/output/producto51/ISCI_std.csv\",\n",
        "  # DP82\n",
        "  \"dp82_weeks\": \"https://raw.githubusercontent.com/MinCiencia/Datos-COVID19/master/output/producto82/ISCI_weeks.csv\",\n",
        "  \"dp82_weekends\": \"https://raw.githubusercontent.com/MinCiencia/Datos-COVID19/master/output/producto82/ISCI_weekends.csv\",\n",
        "  # DP...\n",
        "}\n",
        "\n",
        "for name, url in datasets.items():\n",
        "  utils.get_file(name, url)"
      ],
      "metadata": {
        "id": "dE7TsUSHPUKB"
      },
      "id": "dE7TsUSHPUKB",
      "execution_count": 36,
      "outputs": []
    },
    {
      "cell_type": "markdown",
      "source": [
        "# DATASET PREP"
      ],
      "metadata": {
        "id": "Sp7qZnX4aqkG"
      },
      "id": "Sp7qZnX4aqkG"
    },
    {
      "cell_type": "markdown",
      "source": [
        "## DP51\n",
        "link: [product51](https://github.com/MinCiencia/Datos-COVID19/tree/master/output/producto51)\n"
      ],
      "metadata": {
        "id": "j4zvxr6La0jQ"
      },
      "id": "j4zvxr6La0jQ"
    },
    {
      "cell_type": "code",
      "source": [
        "df_difs = pd.read_csv(\"./datos/dp51_difs.csv\")\n",
        "\n",
        "# Just RM\n",
        "df_difs = df_difs[ df_difs['Codigo region'] == 13 ].drop(columns=['Region', 'Codigo region'])\n",
        "\n",
        "# Sort by Fecha\n",
        "df_difs['Fecha'] = pd.to_datetime(df_difs['Fecha'])\n",
        "df_difs = df_difs.sort_values(by=['Fecha'])\n",
        "\n",
        "def parse_diff(x):\n",
        "  mean = sum([ int(i)  for i in x[1:-2].replace('%','').split(\",\") ])/2\n",
        "  \n",
        "  return (100 + mean)/100\n",
        "\n",
        "df_difs['salida'] = df_difs['Dif salida'].map(parse_diff)\n",
        "\n",
        "salida_comuna = df_difs[ df_difs['Comuna'] == 'Santiago' ].groupby('Fecha')['salida'].mean()\n",
        "#set(salida_comuna)"
      ],
      "metadata": {
        "id": "DvR68yc3aa1e"
      },
      "id": "DvR68yc3aa1e",
      "execution_count": 137,
      "outputs": []
    },
    {
      "cell_type": "markdown",
      "source": [
        "## DP82\n",
        "link: [product82](https://github.com/MinCiencia/Datos-COVID19/tree/master/output/producto82)"
      ],
      "metadata": {
        "id": "XfcaMXTGa3DB"
      },
      "id": "XfcaMXTGa3DB"
    },
    {
      "cell_type": "code",
      "source": [
        "df_weeks = pd.read_csv('./datos/dp82_weeks.csv')\n",
        "#df_weekends = pd.read_csv('./datos/dp82_weekends.csv')\n",
        "\n",
        "# Just RM\n",
        "df_weeks = df_weeks[ df_weeks['region'] == 13 ].drop(columns=['region'])\n",
        "\n",
        "# [!] Fill pasos \n",
        "df_weeks[\"paso\"] = df_weeks[\"paso\"].fillna(method=\"bfill\")\n",
        "\n",
        "# Sort by Fecha\n",
        "df_weeks['fecha_inicio'] = pd.to_datetime(df_weeks['fecha_inicio'])\n",
        "df_weeks = df_weeks.sort_values(by=['fecha_inicio'])\n",
        "\n",
        "df_weeks.head()"
      ],
      "metadata": {
        "id": "Sj3laWPMa4gi",
        "outputId": "70b92b97-b6c3-4481-a4ce-ddbf82e1cf3c",
        "colab": {
          "base_uri": "https://localhost:8080/",
          "height": 206
        }
      },
      "id": "Sj3laWPMa4gi",
      "execution_count": 146,
      "outputs": [
        {
          "output_type": "execute_result",
          "data": {
            "text/plain": [
              "       semana  paso           nom_comuna  comuna fecha_inicio fecha_termino  \\\n",
              "8784        9   0.0             SANTIAGO   13101   2020-03-02    2020-03-06   \n",
              "14184       9   0.0          MARÍA PINTO   13504   2020-03-02    2020-03-06   \n",
              "12504       9   0.0             VITACURA   13132   2020-03-02    2020-03-06   \n",
              "11184       9   0.0  PEDRO AGUIRRE CERDA   13121   2020-03-02    2020-03-06   \n",
              "9384        9   0.0     ESTACIÓN CENTRAL   13106   2020-03-02    2020-03-06   \n",
              "\n",
              "       var_salidas  var_salidas_cota_inferior  var_salidas_cota_superior  \n",
              "8784      0.990904                   0.984820                   0.996988  \n",
              "14184     0.978093                   0.966975                   0.989210  \n",
              "12504     0.995176                   0.979763                   1.010590  \n",
              "11184     0.998329                   0.995217                   1.001441  \n",
              "9384      0.995008                   0.989583                   1.000434  "
            ],
            "text/html": [
              "\n",
              "  <div id=\"df-00b465c2-f1fa-47d8-8560-f4df8549c7c8\">\n",
              "    <div class=\"colab-df-container\">\n",
              "      <div>\n",
              "<style scoped>\n",
              "    .dataframe tbody tr th:only-of-type {\n",
              "        vertical-align: middle;\n",
              "    }\n",
              "\n",
              "    .dataframe tbody tr th {\n",
              "        vertical-align: top;\n",
              "    }\n",
              "\n",
              "    .dataframe thead th {\n",
              "        text-align: right;\n",
              "    }\n",
              "</style>\n",
              "<table border=\"1\" class=\"dataframe\">\n",
              "  <thead>\n",
              "    <tr style=\"text-align: right;\">\n",
              "      <th></th>\n",
              "      <th>semana</th>\n",
              "      <th>paso</th>\n",
              "      <th>nom_comuna</th>\n",
              "      <th>comuna</th>\n",
              "      <th>fecha_inicio</th>\n",
              "      <th>fecha_termino</th>\n",
              "      <th>var_salidas</th>\n",
              "      <th>var_salidas_cota_inferior</th>\n",
              "      <th>var_salidas_cota_superior</th>\n",
              "    </tr>\n",
              "  </thead>\n",
              "  <tbody>\n",
              "    <tr>\n",
              "      <th>8784</th>\n",
              "      <td>9</td>\n",
              "      <td>0.0</td>\n",
              "      <td>SANTIAGO</td>\n",
              "      <td>13101</td>\n",
              "      <td>2020-03-02</td>\n",
              "      <td>2020-03-06</td>\n",
              "      <td>0.990904</td>\n",
              "      <td>0.984820</td>\n",
              "      <td>0.996988</td>\n",
              "    </tr>\n",
              "    <tr>\n",
              "      <th>14184</th>\n",
              "      <td>9</td>\n",
              "      <td>0.0</td>\n",
              "      <td>MARÍA PINTO</td>\n",
              "      <td>13504</td>\n",
              "      <td>2020-03-02</td>\n",
              "      <td>2020-03-06</td>\n",
              "      <td>0.978093</td>\n",
              "      <td>0.966975</td>\n",
              "      <td>0.989210</td>\n",
              "    </tr>\n",
              "    <tr>\n",
              "      <th>12504</th>\n",
              "      <td>9</td>\n",
              "      <td>0.0</td>\n",
              "      <td>VITACURA</td>\n",
              "      <td>13132</td>\n",
              "      <td>2020-03-02</td>\n",
              "      <td>2020-03-06</td>\n",
              "      <td>0.995176</td>\n",
              "      <td>0.979763</td>\n",
              "      <td>1.010590</td>\n",
              "    </tr>\n",
              "    <tr>\n",
              "      <th>11184</th>\n",
              "      <td>9</td>\n",
              "      <td>0.0</td>\n",
              "      <td>PEDRO AGUIRRE CERDA</td>\n",
              "      <td>13121</td>\n",
              "      <td>2020-03-02</td>\n",
              "      <td>2020-03-06</td>\n",
              "      <td>0.998329</td>\n",
              "      <td>0.995217</td>\n",
              "      <td>1.001441</td>\n",
              "    </tr>\n",
              "    <tr>\n",
              "      <th>9384</th>\n",
              "      <td>9</td>\n",
              "      <td>0.0</td>\n",
              "      <td>ESTACIÓN CENTRAL</td>\n",
              "      <td>13106</td>\n",
              "      <td>2020-03-02</td>\n",
              "      <td>2020-03-06</td>\n",
              "      <td>0.995008</td>\n",
              "      <td>0.989583</td>\n",
              "      <td>1.000434</td>\n",
              "    </tr>\n",
              "  </tbody>\n",
              "</table>\n",
              "</div>\n",
              "      <button class=\"colab-df-convert\" onclick=\"convertToInteractive('df-00b465c2-f1fa-47d8-8560-f4df8549c7c8')\"\n",
              "              title=\"Convert this dataframe to an interactive table.\"\n",
              "              style=\"display:none;\">\n",
              "        \n",
              "  <svg xmlns=\"http://www.w3.org/2000/svg\" height=\"24px\"viewBox=\"0 0 24 24\"\n",
              "       width=\"24px\">\n",
              "    <path d=\"M0 0h24v24H0V0z\" fill=\"none\"/>\n",
              "    <path d=\"M18.56 5.44l.94 2.06.94-2.06 2.06-.94-2.06-.94-.94-2.06-.94 2.06-2.06.94zm-11 1L8.5 8.5l.94-2.06 2.06-.94-2.06-.94L8.5 2.5l-.94 2.06-2.06.94zm10 10l.94 2.06.94-2.06 2.06-.94-2.06-.94-.94-2.06-.94 2.06-2.06.94z\"/><path d=\"M17.41 7.96l-1.37-1.37c-.4-.4-.92-.59-1.43-.59-.52 0-1.04.2-1.43.59L10.3 9.45l-7.72 7.72c-.78.78-.78 2.05 0 2.83L4 21.41c.39.39.9.59 1.41.59.51 0 1.02-.2 1.41-.59l7.78-7.78 2.81-2.81c.8-.78.8-2.07 0-2.86zM5.41 20L4 18.59l7.72-7.72 1.47 1.35L5.41 20z\"/>\n",
              "  </svg>\n",
              "      </button>\n",
              "      \n",
              "  <style>\n",
              "    .colab-df-container {\n",
              "      display:flex;\n",
              "      flex-wrap:wrap;\n",
              "      gap: 12px;\n",
              "    }\n",
              "\n",
              "    .colab-df-convert {\n",
              "      background-color: #E8F0FE;\n",
              "      border: none;\n",
              "      border-radius: 50%;\n",
              "      cursor: pointer;\n",
              "      display: none;\n",
              "      fill: #1967D2;\n",
              "      height: 32px;\n",
              "      padding: 0 0 0 0;\n",
              "      width: 32px;\n",
              "    }\n",
              "\n",
              "    .colab-df-convert:hover {\n",
              "      background-color: #E2EBFA;\n",
              "      box-shadow: 0px 1px 2px rgba(60, 64, 67, 0.3), 0px 1px 3px 1px rgba(60, 64, 67, 0.15);\n",
              "      fill: #174EA6;\n",
              "    }\n",
              "\n",
              "    [theme=dark] .colab-df-convert {\n",
              "      background-color: #3B4455;\n",
              "      fill: #D2E3FC;\n",
              "    }\n",
              "\n",
              "    [theme=dark] .colab-df-convert:hover {\n",
              "      background-color: #434B5C;\n",
              "      box-shadow: 0px 1px 3px 1px rgba(0, 0, 0, 0.15);\n",
              "      filter: drop-shadow(0px 1px 2px rgba(0, 0, 0, 0.3));\n",
              "      fill: #FFFFFF;\n",
              "    }\n",
              "  </style>\n",
              "\n",
              "      <script>\n",
              "        const buttonEl =\n",
              "          document.querySelector('#df-00b465c2-f1fa-47d8-8560-f4df8549c7c8 button.colab-df-convert');\n",
              "        buttonEl.style.display =\n",
              "          google.colab.kernel.accessAllowed ? 'block' : 'none';\n",
              "\n",
              "        async function convertToInteractive(key) {\n",
              "          const element = document.querySelector('#df-00b465c2-f1fa-47d8-8560-f4df8549c7c8');\n",
              "          const dataTable =\n",
              "            await google.colab.kernel.invokeFunction('convertToInteractive',\n",
              "                                                     [key], {});\n",
              "          if (!dataTable) return;\n",
              "\n",
              "          const docLinkHtml = 'Like what you see? Visit the ' +\n",
              "            '<a target=\"_blank\" href=https://colab.research.google.com/notebooks/data_table.ipynb>data table notebook</a>'\n",
              "            + ' to learn more about interactive tables.';\n",
              "          element.innerHTML = '';\n",
              "          dataTable['output_type'] = 'display_data';\n",
              "          await google.colab.output.renderOutput(dataTable, element);\n",
              "          const docLink = document.createElement('div');\n",
              "          docLink.innerHTML = docLinkHtml;\n",
              "          element.appendChild(docLink);\n",
              "        }\n",
              "      </script>\n",
              "    </div>\n",
              "  </div>\n",
              "  "
            ]
          },
          "metadata": {},
          "execution_count": 146
        }
      ]
    },
    {
      "cell_type": "markdown",
      "source": [
        "## Prom `Dif salida` VS `var_salidas`\n",
        "En general siguen las mismas tendencias, pero tienen una diferencia de 0.2 que no estoy seguro pq ocurre.\n",
        "Lo unico raro es la diferencia al final, (el peak hacia abajo es por un error de mediciones en uno de los datasets.) pero al final, el dataset `var` tiene un amuento raro que no se ve en la otra curva."
      ],
      "metadata": {
        "id": "E62vmXdlXhuA"
      },
      "id": "E62vmXdlXhuA"
    },
    {
      "cell_type": "code",
      "source": [
        "temp = df_weeks[ (df_weeks[\"fecha_inicio\"].isin(salida_comuna.index)) & (df_weeks[\"nom_comuna\"] == \"SANTIAGO\") ].set_index(\"fecha_inicio\")\n",
        "\n",
        "plt.figure()\n",
        "\n",
        "#plt.plot(temp[\"paso\"] / 8 + 0.5)\n",
        "plt.plot(temp[\"var_salidas\"])\n",
        "plt.plot(salida_comuna - 0.2)\n",
        "\n",
        "plt.legend([\"var\", \"dif\"])\n",
        "plt.show()\n",
        "\n",
        "(salida_comuna - temp[\"var_salidas\"]).mean()"
      ],
      "metadata": {
        "id": "bWMIUbY87qYf",
        "outputId": "80c5207b-ebc6-4f06-f664-16538fe9ccb8",
        "colab": {
          "base_uri": "https://localhost:8080/",
          "height": 282
        }
      },
      "id": "bWMIUbY87qYf",
      "execution_count": 160,
      "outputs": [
        {
          "output_type": "display_data",
          "data": {
            "text/plain": [
              "<Figure size 432x288 with 1 Axes>"
            ],
            "image/png": "[encoded data removed]"
          },
          "metadata": {
            "needs_background": "light"
          }
        },
        {
          "output_type": "execute_result",
          "data": {
            "text/plain": [
              "0.19000725738526164"
            ]
          },
          "metadata": {},
          "execution_count": 160
        }
      ]
    },
    {
      "cell_type": "code",
      "source": [],
      "metadata": {
        "id": "ag0pdwJSZLcv"
      },
      "id": "ag0pdwJSZLcv",
      "execution_count": null,
      "outputs": []
    }
  ],
  "metadata": {
    "kernelspec": {
      "display_name": "Python 3 (ipykernel)",
      "language": "python",
      "name": "python3"
    },
    "language_info": {
      "codemirror_mode": {
        "name": "ipython",
        "version": 3
      },
      "file_extension": ".py",
      "mimetype": "text/x-python",
      "name": "python",
      "nbconvert_exporter": "python",
      "pygments_lexer": "ipython3",
      "version": "3.10.8"
    },
    "colab": {
      "provenance": [],
      "toc_visible": true
    }
  },
  "nbformat": 4,
  "nbformat_minor": 5
}