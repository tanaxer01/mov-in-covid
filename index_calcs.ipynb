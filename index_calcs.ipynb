{
  "cells": [
    {
      "cell_type": "markdown",
      "metadata": {
        "id": "view-in-github",
        "colab_type": "text"
      },
      "source": [
        "<a href=\"https://colab.research.google.com/github/tanaxer01/mov-in-covid/blob/main/index_calcs.ipynb\" target=\"_parent\"><img src=\"https://colab.research.google.com/assets/colab-badge.svg\" alt=\"Open In Colab\"/></a>"
      ]
    },
    {
      "cell_type": "code",
      "execution_count": null,
      "id": "4c87beea",
      "metadata": {
        "id": "4c87beea"
      },
      "outputs": [],
      "source": [
        "!if [ ! -d mov-in-covid ]; then \\\n",
        "  git clone https://github.com/tanaxer01/mov-in-covid; \\\n",
        "  mv mov-in-covid/*.py .; fi\n",
        "\n",
        "from datetime import datetime, timedelta\n",
        "import matplotlib.pyplot as plt\n",
        "import pandas as pd\n",
        "import numpy  as np\n",
        "import utils"
      ]
    },
    {
      "cell_type": "code",
      "source": [
        "datasets = {\n",
        "  # DP1\n",
        "  \"dp1_contagios\": \"https://raw.githubusercontent.com/MinCiencia/Datos-COVID19/master/output/producto1/Covid-19_std.csv\",\n",
        "  # DP51\n",
        "  \"dp51_difs\": \"https://raw.githubusercontent.com/MinCiencia/Datos-COVID19/master/output/producto51/ISCI_std.csv\",\n",
        "  # DP82\n",
        "  \"dp82_weeks\": \"https://raw.githubusercontent.com/MinCiencia/Datos-COVID19/master/output/producto82/ISCI_weeks.csv\",\n",
        "  \"dp82_weekends\": \"https://raw.githubusercontent.com/MinCiencia/Datos-COVID19/master/output/producto82/ISCI_weekends.csv\",\n",
        "  # DP...\n",
        "}\n",
        "\n",
        "for name, url in datasets.items():\n",
        "  utils.get_file(name, url)"
      ],
      "metadata": {
        "id": "dE7TsUSHPUKB",
        "colab": {
          "base_uri": "https://localhost:8080/"
        },
        "outputId": "02aebc51-8baf-4812-b63b-f3590751a5c8"
      },
      "id": "dE7TsUSHPUKB",
      "execution_count": null,
      "outputs": [
        {
          "output_type": "stream",
          "name": "stdout",
          "text": [
            "[+] created ./datos/\n",
            "[+] downloaded ./datos/dp1_contagios\n",
            "[+] downloaded ./datos/dp51_difs\n",
            "[+] downloaded ./datos/dp82_weeks\n",
            "[+] downloaded ./datos/dp82_weekends\n"
          ]
        }
      ]
    },
    {
      "cell_type": "markdown",
      "source": [
        "# DATASET PREP"
      ],
      "metadata": {
        "id": "Sp7qZnX4aqkG"
      },
      "id": "Sp7qZnX4aqkG"
    },
    {
      "cell_type": "markdown",
      "source": [
        "## DP1"
      ],
      "metadata": {
        "id": "TT1Bd7n58CpD"
      },
      "id": "TT1Bd7n58CpD"
    },
    {
      "cell_type": "code",
      "source": [
        "DataProduct1 = pd.read_csv(\"./datos/dp1_contagios.csv\", parse_dates=[\"Fecha\"])\n",
        "\n",
        "# Just RM\n",
        "DataProduct1 = DataProduct1[ DataProduct1[\"Codigo region\"] == 13 ].drop(columns=[\"Region\", \"Codigo region\"])\n",
        "\n",
        "print(DataProduct1[ DataProduct1.Comuna == \"Santiago\" ][\"Fecha\"].shape)\n",
        "\n",
        "DataProduct1 = DataProduct1.set_index(\"Fecha\")\n",
        "\n",
        "# Week num\n",
        "DataProduct1[\"Semana\"] = (DataProduct1.index.to_series() - datetime.strptime(\"2020-01-01\", \"%Y-%m-%d\")).dt.days // 7\n",
        "\n",
        "# Drop `Desconocido Metropolitana`\n",
        "DataProduct1 = DataProduct1[ DataProduct1.Comuna != \"Desconocido Metropolitana\" ]\n",
        "\n",
        "casos = pd.DataFrame({ i:DataProduct1[ DataProduct1.Comuna == i ].groupby(\"Semana\")[\"Casos confirmados\"].mean() for i in set(DataProduct1.Comuna) }) \n",
        "casos_nuevos = casos.subtract( casos.shift(periods=1, fill_value=0) )\n",
        "\n",
        "#casos_old = DataProduct1.pivot_table(values=\"Casos confirmados\", index=\"Fecha\", columns=\"Comuna\")\n",
        "#casos_oldnuevos = casos.subtract( casos.shift(periods=1, fill_value=0) )\n",
        "\n",
        "DataProduct1.head(2)\n",
        "\n",
        "plt.figure()\n",
        "plt.plot(casos[\"Santiago\"] / casos[\"Santiago\"].max())\n",
        "plt.plot(casos_nuevos[\"Santiago\"] / casos_nuevos[\"Santiago\"].max())\n",
        "\n",
        "plt.show()"
      ],
      "metadata": {
        "colab": {
          "base_uri": "https://localhost:8080/",
          "height": 282
        },
        "id": "teYjKvj77aUE",
        "outputId": "73e43919-2ed2-483d-f80b-19f8ffb0acf7"
      },
      "id": "teYjKvj77aUE",
      "execution_count": null,
      "outputs": [
        {
          "output_type": "stream",
          "name": "stdout",
          "text": [
            "(275,)\n"
          ]
        },
        {
          "output_type": "display_data",
          "data": {
            "text/plain": [
              "<Figure size 432x288 with 1 Axes>"
            ],
            "image/png": "[encoded data removed]"
          },
          "metadata": {
            "needs_background": "light"
          }
        }
      ]
    },
    {
      "cell_type": "code",
      "source": [
        "date2week = lambda x: (datetime.strptime(x, \"%Y-%m-%d\") - datetime.strptime(\"2020-01-01\", \"%Y-%m-%d\")).days // 7\n",
        "\n",
        "plt.subplot(3,1,1)\n",
        "plt.plot( casos_nuevos.loc[:date2week(\"2021-01-01\")] )\n",
        "\n",
        "for i in [\"2020-01-01\", \"2020-05-01\", \"2020-07-01\", \"2020-12-31\"]:\n",
        "  plt.axvline(x=date2week(i), color='black', linestyle='--')\n",
        "\n",
        "plt.subplot(3,1,2)\n",
        "plt.plot( casos_nuevos.loc[date2week(\"2021-01-01\"):date2week(\"2022-01-01\")] )\n",
        "\n",
        "for i in [\"2021-01-01\", \"2021-05-01\", \"2021-07-01\", \"2021-12-31\"]:\n",
        "  plt.axvline(x=date2week(i), color='black', linestyle='--')\n",
        "\n",
        "plt.subplot(3,1,3)\n",
        "plt.plot( casos_nuevos.loc[date2week(\"2022-01-01\"):] )\n",
        "\n",
        "for i in [\"2022-01-01\", \"2022-05-01\", \"2022-07-01\", \"2022-12-31\"]:\n",
        "  plt.axvline(x=date2week(i), color='black', linestyle='--')\n",
        "\n",
        "plt.show()"
      ],
      "metadata": {
        "colab": {
          "base_uri": "https://localhost:8080/",
          "height": 265
        },
        "id": "MqC-Kbx4ABqD",
        "outputId": "aa2e37cb-283a-4fff-b50f-cee33544a88e"
      },
      "id": "MqC-Kbx4ABqD",
      "execution_count": null,
      "outputs": [
        {
          "output_type": "display_data",
          "data": {
            "text/plain": [
              "<Figure size 432x288 with 3 Axes>"
            ],
            "image/png": "[encoded data removed]"
          },
          "metadata": {
            "needs_background": "light"
          }
        }
      ]
    },
    {
      "cell_type": "code",
      "source": [
        "from statsmodels.tsa.seasonal import seasonal_decompose\n",
        "\n",
        "decompose = seasonal_decompose(casos_nuevos[\"Santiago\"], period=16, model=\"multiplicative\").plot()"
      ],
      "metadata": {
        "id": "Typvd4J7GByo",
        "outputId": "4db0b4da-02bc-453c-8a4d-bf17ec179901",
        "colab": {
          "base_uri": "https://localhost:8080/",
          "height": 297
        }
      },
      "id": "Typvd4J7GByo",
      "execution_count": null,
      "outputs": [
        {
          "output_type": "display_data",
          "data": {
            "text/plain": [
              "<Figure size 432x288 with 4 Axes>"
            ],
            "image/png": "[encoded data removed]"
          },
          "metadata": {
            "needs_background": "light"
          }
        }
      ]
    },
    {
      "cell_type": "markdown",
      "source": [
        "## DP51\n",
        "link: [product51](https://github.com/MinCiencia/Datos-COVID19/tree/master/output/producto51)\n"
      ],
      "metadata": {
        "id": "j4zvxr6La0jQ"
      },
      "id": "j4zvxr6La0jQ"
    },
    {
      "cell_type": "code",
      "source": [
        "df_difs = pd.read_csv(\"./datos/dp51_difs.csv\")\n",
        "\n",
        "# Fecha to Datetime && sort by Fecha\n",
        "df_difs['Fecha'] = pd.to_datetime(df_difs['Fecha'])\n",
        "df_difs = df_difs.sort_values(by=['Fecha'])\n",
        "\n",
        "# Just RM\n",
        "df_difs = df_difs[ df_difs['Codigo region'] == 13 ].drop(columns=['Region', 'Codigo region'])\n",
        "\n",
        "\n",
        "# Calc prom of Dif salida y Dif entrada.\n",
        "def parse_diff(x):\n",
        "  mean = sum([ int(i)  for i in x[1:-2].replace('%','').split(\",\") ])/2\n",
        "  \n",
        "  return (100 + mean)/100\n",
        "\n",
        "df_difs['Salida'] = df_difs['Dif salida'].map(parse_diff)\n",
        "df_difs['Entrada'] = df_difs['Dif entrada'].map(parse_diff)\n",
        "\n",
        "df_salidas  = pd.DataFrame({ i:df_difs[ df_difs[\"Comuna\"] == i ].groupby(\"Week\")[\"Salida\"].mean() for i in set(df_difs[\"Comuna\"]) })\n",
        "df_entradas = pd.DataFrame({ i:df_difs[ df_difs[\"Comuna\"] == i ].groupby(\"Week\")[\"Entrada\"].mean() for i in set(df_difs[\"Comuna\"]) })"
      ],
      "metadata": {
        "id": "DvR68yc3aa1e"
      },
      "id": "DvR68yc3aa1e",
      "execution_count": null,
      "outputs": []
    },
    {
      "cell_type": "code",
      "source": [
        "df_salidas.head()"
      ],
      "metadata": {
        "colab": {
          "base_uri": "https://localhost:8080/",
          "height": 328
        },
        "id": "HuLgSZb2AOWw",
        "outputId": "215dd8ca-0a11-458b-a69f-bf0e46a7558c"
      },
      "id": "HuLgSZb2AOWw",
      "execution_count": null,
      "outputs": [
        {
          "output_type": "execute_result",
          "data": {
            "text/plain": [
              "      Calera de Tango  Isla de Maipo  Cerrillos  María Pinto  Melipilla  \\\n",
              "Week                                                                      \n",
              "9            1.265000         1.1975   1.149286     1.670000   1.711538   \n",
              "10           1.265000         1.1975   1.149286     1.670000   1.711538   \n",
              "11           1.198333         1.1225   1.120714     1.620000   1.700000   \n",
              "12           1.020556         0.9850   0.977857     1.586667   1.669231   \n",
              "13           1.020556         0.9475   0.949286     1.586667   1.653846   \n",
              "\n",
              "      Peñaflor  La Florida  San Bernardo     Maipú  Quilicura  ...  Curacaví  \\\n",
              "Week                                                           ...             \n",
              "9     1.072143    1.184252      1.173676  1.177093   1.193000  ...   1.29875   \n",
              "10    1.072143    1.184252      1.173676  1.177093   1.193000  ...   1.29875   \n",
              "11    1.015000    1.133785      1.151618  1.121279   1.159667  ...   1.29875   \n",
              "12    0.886429    0.978645      1.029559  0.996473   1.039667  ...   1.18625   \n",
              "13    0.848333    0.985187      1.013382  0.996473   1.035222  ...   1.22375   \n",
              "\n",
              "      Independencia     Macul  Santiago  Pedro Aguirre Cerda  Pudahuel  \\\n",
              "Week                                                                     \n",
              "9          1.119615  1.176212  1.101744             1.139643  1.204032   \n",
              "10         1.119615  1.166818  1.101744             1.139643  1.204032   \n",
              "11         1.119615  1.057727  1.027326             1.139643  1.175000   \n",
              "12         0.923462  0.948636  0.849031             0.968214  1.025000   \n",
              "13         0.915769  0.912273  0.790891             0.946786  1.039516   \n",
              "\n",
              "         Paine  El Bosque  Providencia  Recoleta  \n",
              "Week                                              \n",
              "9     1.128125   1.265000     1.026765  1.265000  \n",
              "10    1.146875   1.265000     1.026765  1.265000  \n",
              "11    1.040625   1.257308     0.748333  1.218333  \n",
              "12    0.865625   1.172692     0.624804  1.140556  \n",
              "13    0.871875   1.149615     0.564020  1.098333  \n",
              "\n",
              "[5 rows x 51 columns]"
            ],
            "text/html": [
              "\n",
              "  <div id=\"df-077bf764-a9bb-4cb9-bd78-5cfba7f26521\">\n",
              "    <div class=\"colab-df-container\">\n",
              "      <div>\n",
              "<style scoped>\n",
              "    .dataframe tbody tr th:only-of-type {\n",
              "        vertical-align: middle;\n",
              "    }\n",
              "\n",
              "    .dataframe tbody tr th {\n",
              "        vertical-align: top;\n",
              "    }\n",
              "\n",
              "    .dataframe thead th {\n",
              "        text-align: right;\n",
              "    }\n",
              "</style>\n",
              "<table border=\"1\" class=\"dataframe\">\n",
              "  <thead>\n",
              "    <tr style=\"text-align: right;\">\n",
              "      <th></th>\n",
              "      <th>Calera de Tango</th>\n",
              "      <th>Isla de Maipo</th>\n",
              "      <th>Cerrillos</th>\n",
              "      <th>María Pinto</th>\n",
              "      <th>Melipilla</th>\n",
              "      <th>Peñaflor</th>\n",
              "      <th>La Florida</th>\n",
              "      <th>San Bernardo</th>\n",
              "      <th>Maipú</th>\n",
              "      <th>Quilicura</th>\n",
              "      <th>...</th>\n",
              "      <th>Curacaví</th>\n",
              "      <th>Independencia</th>\n",
              "      <th>Macul</th>\n",
              "      <th>Santiago</th>\n",
              "      <th>Pedro Aguirre Cerda</th>\n",
              "      <th>Pudahuel</th>\n",
              "      <th>Paine</th>\n",
              "      <th>El Bosque</th>\n",
              "      <th>Providencia</th>\n",
              "      <th>Recoleta</th>\n",
              "    </tr>\n",
              "    <tr>\n",
              "      <th>Week</th>\n",
              "      <th></th>\n",
              "      <th></th>\n",
              "      <th></th>\n",
              "      <th></th>\n",
              "      <th></th>\n",
              "      <th></th>\n",
              "      <th></th>\n",
              "      <th></th>\n",
              "      <th></th>\n",
              "      <th></th>\n",
              "      <th></th>\n",
              "      <th></th>\n",
              "      <th></th>\n",
              "      <th></th>\n",
              "      <th></th>\n",
              "      <th></th>\n",
              "      <th></th>\n",
              "      <th></th>\n",
              "      <th></th>\n",
              "      <th></th>\n",
              "      <th></th>\n",
              "    </tr>\n",
              "  </thead>\n",
              "  <tbody>\n",
              "    <tr>\n",
              "      <th>9</th>\n",
              "      <td>1.265000</td>\n",
              "      <td>1.1975</td>\n",
              "      <td>1.149286</td>\n",
              "      <td>1.670000</td>\n",
              "      <td>1.711538</td>\n",
              "      <td>1.072143</td>\n",
              "      <td>1.184252</td>\n",
              "      <td>1.173676</td>\n",
              "      <td>1.177093</td>\n",
              "      <td>1.193000</td>\n",
              "      <td>...</td>\n",
              "      <td>1.29875</td>\n",
              "      <td>1.119615</td>\n",
              "      <td>1.176212</td>\n",
              "      <td>1.101744</td>\n",
              "      <td>1.139643</td>\n",
              "      <td>1.204032</td>\n",
              "      <td>1.128125</td>\n",
              "      <td>1.265000</td>\n",
              "      <td>1.026765</td>\n",
              "      <td>1.265000</td>\n",
              "    </tr>\n",
              "    <tr>\n",
              "      <th>10</th>\n",
              "      <td>1.265000</td>\n",
              "      <td>1.1975</td>\n",
              "      <td>1.149286</td>\n",
              "      <td>1.670000</td>\n",
              "      <td>1.711538</td>\n",
              "      <td>1.072143</td>\n",
              "      <td>1.184252</td>\n",
              "      <td>1.173676</td>\n",
              "      <td>1.177093</td>\n",
              "      <td>1.193000</td>\n",
              "      <td>...</td>\n",
              "      <td>1.29875</td>\n",
              "      <td>1.119615</td>\n",
              "      <td>1.166818</td>\n",
              "      <td>1.101744</td>\n",
              "      <td>1.139643</td>\n",
              "      <td>1.204032</td>\n",
              "      <td>1.146875</td>\n",
              "      <td>1.265000</td>\n",
              "      <td>1.026765</td>\n",
              "      <td>1.265000</td>\n",
              "    </tr>\n",
              "    <tr>\n",
              "      <th>11</th>\n",
              "      <td>1.198333</td>\n",
              "      <td>1.1225</td>\n",
              "      <td>1.120714</td>\n",
              "      <td>1.620000</td>\n",
              "      <td>1.700000</td>\n",
              "      <td>1.015000</td>\n",
              "      <td>1.133785</td>\n",
              "      <td>1.151618</td>\n",
              "      <td>1.121279</td>\n",
              "      <td>1.159667</td>\n",
              "      <td>...</td>\n",
              "      <td>1.29875</td>\n",
              "      <td>1.119615</td>\n",
              "      <td>1.057727</td>\n",
              "      <td>1.027326</td>\n",
              "      <td>1.139643</td>\n",
              "      <td>1.175000</td>\n",
              "      <td>1.040625</td>\n",
              "      <td>1.257308</td>\n",
              "      <td>0.748333</td>\n",
              "      <td>1.218333</td>\n",
              "    </tr>\n",
              "    <tr>\n",
              "      <th>12</th>\n",
              "      <td>1.020556</td>\n",
              "      <td>0.9850</td>\n",
              "      <td>0.977857</td>\n",
              "      <td>1.586667</td>\n",
              "      <td>1.669231</td>\n",
              "      <td>0.886429</td>\n",
              "      <td>0.978645</td>\n",
              "      <td>1.029559</td>\n",
              "      <td>0.996473</td>\n",
              "      <td>1.039667</td>\n",
              "      <td>...</td>\n",
              "      <td>1.18625</td>\n",
              "      <td>0.923462</td>\n",
              "      <td>0.948636</td>\n",
              "      <td>0.849031</td>\n",
              "      <td>0.968214</td>\n",
              "      <td>1.025000</td>\n",
              "      <td>0.865625</td>\n",
              "      <td>1.172692</td>\n",
              "      <td>0.624804</td>\n",
              "      <td>1.140556</td>\n",
              "    </tr>\n",
              "    <tr>\n",
              "      <th>13</th>\n",
              "      <td>1.020556</td>\n",
              "      <td>0.9475</td>\n",
              "      <td>0.949286</td>\n",
              "      <td>1.586667</td>\n",
              "      <td>1.653846</td>\n",
              "      <td>0.848333</td>\n",
              "      <td>0.985187</td>\n",
              "      <td>1.013382</td>\n",
              "      <td>0.996473</td>\n",
              "      <td>1.035222</td>\n",
              "      <td>...</td>\n",
              "      <td>1.22375</td>\n",
              "      <td>0.915769</td>\n",
              "      <td>0.912273</td>\n",
              "      <td>0.790891</td>\n",
              "      <td>0.946786</td>\n",
              "      <td>1.039516</td>\n",
              "      <td>0.871875</td>\n",
              "      <td>1.149615</td>\n",
              "      <td>0.564020</td>\n",
              "      <td>1.098333</td>\n",
              "    </tr>\n",
              "  </tbody>\n",
              "</table>\n",
              "<p>5 rows × 51 columns</p>\n",
              "</div>\n",
              "      <button class=\"colab-df-convert\" onclick=\"convertToInteractive('df-077bf764-a9bb-4cb9-bd78-5cfba7f26521')\"\n",
              "              title=\"Convert this dataframe to an interactive table.\"\n",
              "              style=\"display:none;\">\n",
              "        \n",
              "  <svg xmlns=\"http://www.w3.org/2000/svg\" height=\"24px\"viewBox=\"0 0 24 24\"\n",
              "       width=\"24px\">\n",
              "    <path d=\"M0 0h24v24H0V0z\" fill=\"none\"/>\n",
              "    <path d=\"M18.56 5.44l.94 2.06.94-2.06 2.06-.94-2.06-.94-.94-2.06-.94 2.06-2.06.94zm-11 1L8.5 8.5l.94-2.06 2.06-.94-2.06-.94L8.5 2.5l-.94 2.06-2.06.94zm10 10l.94 2.06.94-2.06 2.06-.94-2.06-.94-.94-2.06-.94 2.06-2.06.94z\"/><path d=\"M17.41 7.96l-1.37-1.37c-.4-.4-.92-.59-1.43-.59-.52 0-1.04.2-1.43.59L10.3 9.45l-7.72 7.72c-.78.78-.78 2.05 0 2.83L4 21.41c.39.39.9.59 1.41.59.51 0 1.02-.2 1.41-.59l7.78-7.78 2.81-2.81c.8-.78.8-2.07 0-2.86zM5.41 20L4 18.59l7.72-7.72 1.47 1.35L5.41 20z\"/>\n",
              "  </svg>\n",
              "      </button>\n",
              "      \n",
              "  <style>\n",
              "    .colab-df-container {\n",
              "      display:flex;\n",
              "      flex-wrap:wrap;\n",
              "      gap: 12px;\n",
              "    }\n",
              "\n",
              "    .colab-df-convert {\n",
              "      background-color: #E8F0FE;\n",
              "      border: none;\n",
              "      border-radius: 50%;\n",
              "      cursor: pointer;\n",
              "      display: none;\n",
              "      fill: #1967D2;\n",
              "      height: 32px;\n",
              "      padding: 0 0 0 0;\n",
              "      width: 32px;\n",
              "    }\n",
              "\n",
              "    .colab-df-convert:hover {\n",
              "      background-color: #E2EBFA;\n",
              "      box-shadow: 0px 1px 2px rgba(60, 64, 67, 0.3), 0px 1px 3px 1px rgba(60, 64, 67, 0.15);\n",
              "      fill: #174EA6;\n",
              "    }\n",
              "\n",
              "    [theme=dark] .colab-df-convert {\n",
              "      background-color: #3B4455;\n",
              "      fill: #D2E3FC;\n",
              "    }\n",
              "\n",
              "    [theme=dark] .colab-df-convert:hover {\n",
              "      background-color: #434B5C;\n",
              "      box-shadow: 0px 1px 3px 1px rgba(0, 0, 0, 0.15);\n",
              "      filter: drop-shadow(0px 1px 2px rgba(0, 0, 0, 0.3));\n",
              "      fill: #FFFFFF;\n",
              "    }\n",
              "  </style>\n",
              "\n",
              "      <script>\n",
              "        const buttonEl =\n",
              "          document.querySelector('#df-077bf764-a9bb-4cb9-bd78-5cfba7f26521 button.colab-df-convert');\n",
              "        buttonEl.style.display =\n",
              "          google.colab.kernel.accessAllowed ? 'block' : 'none';\n",
              "\n",
              "        async function convertToInteractive(key) {\n",
              "          const element = document.querySelector('#df-077bf764-a9bb-4cb9-bd78-5cfba7f26521');\n",
              "          const dataTable =\n",
              "            await google.colab.kernel.invokeFunction('convertToInteractive',\n",
              "                                                     [key], {});\n",
              "          if (!dataTable) return;\n",
              "\n",
              "          const docLinkHtml = 'Like what you see? Visit the ' +\n",
              "            '<a target=\"_blank\" href=https://colab.research.google.com/notebooks/data_table.ipynb>data table notebook</a>'\n",
              "            + ' to learn more about interactive tables.';\n",
              "          element.innerHTML = '';\n",
              "          dataTable['output_type'] = 'display_data';\n",
              "          await google.colab.output.renderOutput(dataTable, element);\n",
              "          const docLink = document.createElement('div');\n",
              "          docLink.innerHTML = docLinkHtml;\n",
              "          element.appendChild(docLink);\n",
              "        }\n",
              "      </script>\n",
              "    </div>\n",
              "  </div>\n",
              "  "
            ]
          },
          "metadata": {},
          "execution_count": 316
        }
      ]
    },
    {
      "cell_type": "markdown",
      "source": [
        "## DP82\n",
        "link: [product82](https://github.com/MinCiencia/Datos-COVID19/tree/master/output/producto82)"
      ],
      "metadata": {
        "id": "XfcaMXTGa3DB"
      },
      "id": "XfcaMXTGa3DB"
    },
    {
      "cell_type": "code",
      "source": [
        "df_weeks = pd.read_csv('./datos/dp82_weeks.csv')\n",
        "#df_weekends = pd.read_csv('./datos/dp82_weekends.csv')\n",
        "\n",
        "# Fecha to Datetime && sort by Fecha\n",
        "df_weeks['fecha_inicio'] = pd.to_datetime(df_weeks['fecha_inicio'])\n",
        "df_weeks = df_weeks.sort_values(by=['fecha_inicio'])\n",
        "\n",
        "# Just RM\n",
        "df_weeks = df_weeks[ df_weeks['region'] == 13 ].drop(columns=['region'])\n",
        "\n",
        "# Just dates on DP51\n",
        "# df_weeks = df_weeks[ df_weeks[\"fecha_inicio\"].isin(df_difs[\"Fecha\"]) ]\n",
        "\n",
        "# [!] Fill pasos \n",
        "df_weeks[\"paso\"] = df_weeks[\"paso\"].fillna(method=\"ffill\")\n",
        "\n",
        "# DF pasos\n",
        "df_pasos = df_weeks.pivot_table(values='paso', index='semana', columns='nom_comuna')\n",
        "\n",
        "\n",
        "var_salidas = df_weeks.pivot_table(values=\"var_salidas\", index=\"semana\", columns=\"nom_comuna\")\n",
        "\n",
        "df_weeks.head(1)"
      ],
      "metadata": {
        "id": "Sj3laWPMa4gi",
        "colab": {
          "base_uri": "https://localhost:8080/",
          "height": 81
        },
        "outputId": "98c46e2f-bc62-469e-b90c-a4ffbe7320b0"
      },
      "id": "Sj3laWPMa4gi",
      "execution_count": null,
      "outputs": [
        {
          "output_type": "execute_result",
          "data": {
            "text/plain": [
              "       semana  paso nom_comuna  comuna fecha_inicio fecha_termino  \\\n",
              "11544       9   0.0   PUDAHUEL   13124   2020-03-02    2020-03-06   \n",
              "\n",
              "       var_salidas  var_salidas_cota_inferior  var_salidas_cota_superior  \n",
              "11544     0.988342                   0.985605                    0.99108  "
            ],
            "text/html": [
              "\n",
              "  <div id=\"df-e364ed6c-540a-4f50-9b66-0140038c55a6\">\n",
              "    <div class=\"colab-df-container\">\n",
              "      <div>\n",
              "<style scoped>\n",
              "    .dataframe tbody tr th:only-of-type {\n",
              "        vertical-align: middle;\n",
              "    }\n",
              "\n",
              "    .dataframe tbody tr th {\n",
              "        vertical-align: top;\n",
              "    }\n",
              "\n",
              "    .dataframe thead th {\n",
              "        text-align: right;\n",
              "    }\n",
              "</style>\n",
              "<table border=\"1\" class=\"dataframe\">\n",
              "  <thead>\n",
              "    <tr style=\"text-align: right;\">\n",
              "      <th></th>\n",
              "      <th>semana</th>\n",
              "      <th>paso</th>\n",
              "      <th>nom_comuna</th>\n",
              "      <th>comuna</th>\n",
              "      <th>fecha_inicio</th>\n",
              "      <th>fecha_termino</th>\n",
              "      <th>var_salidas</th>\n",
              "      <th>var_salidas_cota_inferior</th>\n",
              "      <th>var_salidas_cota_superior</th>\n",
              "    </tr>\n",
              "  </thead>\n",
              "  <tbody>\n",
              "    <tr>\n",
              "      <th>11544</th>\n",
              "      <td>9</td>\n",
              "      <td>0.0</td>\n",
              "      <td>PUDAHUEL</td>\n",
              "      <td>13124</td>\n",
              "      <td>2020-03-02</td>\n",
              "      <td>2020-03-06</td>\n",
              "      <td>0.988342</td>\n",
              "      <td>0.985605</td>\n",
              "      <td>0.99108</td>\n",
              "    </tr>\n",
              "  </tbody>\n",
              "</table>\n",
              "</div>\n",
              "      <button class=\"colab-df-convert\" onclick=\"convertToInteractive('df-e364ed6c-540a-4f50-9b66-0140038c55a6')\"\n",
              "              title=\"Convert this dataframe to an interactive table.\"\n",
              "              style=\"display:none;\">\n",
              "        \n",
              "  <svg xmlns=\"http://www.w3.org/2000/svg\" height=\"24px\"viewBox=\"0 0 24 24\"\n",
              "       width=\"24px\">\n",
              "    <path d=\"M0 0h24v24H0V0z\" fill=\"none\"/>\n",
              "    <path d=\"M18.56 5.44l.94 2.06.94-2.06 2.06-.94-2.06-.94-.94-2.06-.94 2.06-2.06.94zm-11 1L8.5 8.5l.94-2.06 2.06-.94-2.06-.94L8.5 2.5l-.94 2.06-2.06.94zm10 10l.94 2.06.94-2.06 2.06-.94-2.06-.94-.94-2.06-.94 2.06-2.06.94z\"/><path d=\"M17.41 7.96l-1.37-1.37c-.4-.4-.92-.59-1.43-.59-.52 0-1.04.2-1.43.59L10.3 9.45l-7.72 7.72c-.78.78-.78 2.05 0 2.83L4 21.41c.39.39.9.59 1.41.59.51 0 1.02-.2 1.41-.59l7.78-7.78 2.81-2.81c.8-.78.8-2.07 0-2.86zM5.41 20L4 18.59l7.72-7.72 1.47 1.35L5.41 20z\"/>\n",
              "  </svg>\n",
              "      </button>\n",
              "      \n",
              "  <style>\n",
              "    .colab-df-container {\n",
              "      display:flex;\n",
              "      flex-wrap:wrap;\n",
              "      gap: 12px;\n",
              "    }\n",
              "\n",
              "    .colab-df-convert {\n",
              "      background-color: #E8F0FE;\n",
              "      border: none;\n",
              "      border-radius: 50%;\n",
              "      cursor: pointer;\n",
              "      display: none;\n",
              "      fill: #1967D2;\n",
              "      height: 32px;\n",
              "      padding: 0 0 0 0;\n",
              "      width: 32px;\n",
              "    }\n",
              "\n",
              "    .colab-df-convert:hover {\n",
              "      background-color: #E2EBFA;\n",
              "      box-shadow: 0px 1px 2px rgba(60, 64, 67, 0.3), 0px 1px 3px 1px rgba(60, 64, 67, 0.15);\n",
              "      fill: #174EA6;\n",
              "    }\n",
              "\n",
              "    [theme=dark] .colab-df-convert {\n",
              "      background-color: #3B4455;\n",
              "      fill: #D2E3FC;\n",
              "    }\n",
              "\n",
              "    [theme=dark] .colab-df-convert:hover {\n",
              "      background-color: #434B5C;\n",
              "      box-shadow: 0px 1px 3px 1px rgba(0, 0, 0, 0.15);\n",
              "      filter: drop-shadow(0px 1px 2px rgba(0, 0, 0, 0.3));\n",
              "      fill: #FFFFFF;\n",
              "    }\n",
              "  </style>\n",
              "\n",
              "      <script>\n",
              "        const buttonEl =\n",
              "          document.querySelector('#df-e364ed6c-540a-4f50-9b66-0140038c55a6 button.colab-df-convert');\n",
              "        buttonEl.style.display =\n",
              "          google.colab.kernel.accessAllowed ? 'block' : 'none';\n",
              "\n",
              "        async function convertToInteractive(key) {\n",
              "          const element = document.querySelector('#df-e364ed6c-540a-4f50-9b66-0140038c55a6');\n",
              "          const dataTable =\n",
              "            await google.colab.kernel.invokeFunction('convertToInteractive',\n",
              "                                                     [key], {});\n",
              "          if (!dataTable) return;\n",
              "\n",
              "          const docLinkHtml = 'Like what you see? Visit the ' +\n",
              "            '<a target=\"_blank\" href=https://colab.research.google.com/notebooks/data_table.ipynb>data table notebook</a>'\n",
              "            + ' to learn more about interactive tables.';\n",
              "          element.innerHTML = '';\n",
              "          dataTable['output_type'] = 'display_data';\n",
              "          await google.colab.output.renderOutput(dataTable, element);\n",
              "          const docLink = document.createElement('div');\n",
              "          docLink.innerHTML = docLinkHtml;\n",
              "          element.appendChild(docLink);\n",
              "        }\n",
              "      </script>\n",
              "    </div>\n",
              "  </div>\n",
              "  "
            ]
          },
          "metadata": {},
          "execution_count": 383
        }
      ]
    },
    {
      "cell_type": "markdown",
      "source": [
        "## `Dif salida` VS `var_salidas`\n",
        "En general siguen las mismas tendencias, pero tienen una diferencia de 0.2 que no estoy seguro pq ocurre.\n",
        "Lo unico raro es la diferencia al final, (el peak hacia abajo es por un error de mediciones en uno de los datasets.) pero al final, el dataset `var` tiene un amuento raro que no se ve en la otra curva."
      ],
      "metadata": {
        "id": "E62vmXdlXhuA"
      },
      "id": "E62vmXdlXhuA"
    },
    {
      "cell_type": "code",
      "source": [
        "dif  = df_salidas[\"Santiago\"]\n",
        "var  = df_weeks[ df_weeks[\"nom_comuna\"] == \"SANTIAGO\" ].set_index(\"fecha_inicio\")\n",
        "\n",
        "var_salidas = var[\"var_salidas\"]\n",
        "paso = var[\"paso\"]\n",
        "\n",
        "plt.figure()\n",
        "\n",
        "plt.plot(paso / 8 + 0.5)\n",
        "plt.plot(var_salidas)\n",
        "plt.plot(dif - 0.2)\n",
        "\n",
        "plt.legend([\"var\", \"dif\"])\n",
        "plt.show()\n",
        "\n",
        "f\"shift promedio entre var y dif: {(dif - var_salidas).mean()}\""
      ],
      "metadata": {
        "id": "bWMIUbY87qYf",
        "colab": {
          "base_uri": "https://localhost:8080/",
          "height": 283
        },
        "outputId": "1650b165-ab2a-48fc-bd99-28efec521286"
      },
      "id": "bWMIUbY87qYf",
      "execution_count": null,
      "outputs": [
        {
          "output_type": "display_data",
          "data": {
            "text/plain": [
              "<Figure size 432x288 with 1 Axes>"
            ],
            "image/png": "[encoded data removed]"
          },
          "metadata": {
            "needs_background": "light"
          }
        },
        {
          "output_type": "execute_result",
          "data": {
            "text/plain": [
              "'shift promedio entre var y dif: 0.19000725738526164'"
            ],
            "application/vnd.google.colaboratory.intrinsic+json": {
              "type": "string"
            }
          },
          "metadata": {},
          "execution_count": 5
        }
      ]
    },
    {
      "cell_type": "markdown",
      "source": [
        "# Medición de eficiencia"
      ],
      "metadata": {
        "id": "qiTzUVjxwMv2"
      },
      "id": "qiTzUVjxwMv2"
    },
    {
      "cell_type": "markdown",
      "source": [
        "## Base model"
      ],
      "metadata": {
        "id": "oTfDvmftQ-QX"
      },
      "id": "oTfDvmftQ-QX"
    },
    {
      "cell_type": "code",
      "source": [
        "from sklearn.model_selection import train_test_split\n",
        "\n",
        "semanas = [ i for i in var_salidas.index if i in casos.index]\n",
        "\n",
        "X = var_salidas.loc[semanas].rename(columns={ i:\"IM-\"+i for i in var_salidas.columns }).join(df_pasos.rename(columns={ i:\"paso-\"+i for i in df_pasos.columns }))\n",
        "y = casos.loc[semanas][\"Santiago\"]\n",
        "\n",
        "X_train, X_test, y_train, y_test = train_test_split(X, y, test_size=0.33, random_state=42)"
      ],
      "metadata": {
        "id": "tMlGpS57RnDh"
      },
      "id": "tMlGpS57RnDh",
      "execution_count": null,
      "outputs": []
    },
    {
      "cell_type": "code",
      "source": [
        "from sklearn import linear_model\n",
        "from sklearn.model_selection import cross_val_score\n",
        "from sklearn.metrics import mean_squared_error, r2_score\n",
        "\n",
        "reg = linear_model.LinearRegression()\n",
        "reg.fit(X.head(70),y.head(70))\n",
        "\n",
        "y_pred = reg.predict(X.tail(47))\n",
        "\n",
        "# The mean squared error\n",
        "print(\"Mean squared error: %.2f\" % mean_squared_error(y.tail(47), y_pred))\n",
        "# The coefficient of determination: 1 is perfect prediction\n",
        "print(\"Coefficient of determination: %.2f\" % r2_score(y.tail(47), y_pred))\n",
        "\n",
        "scores = cross_val_score(reg, X, y, cv=10)\n",
        "print(\"%0.2f accuracy with a standard deviation of %0.2f AKA it sucks\" % (scores.mean(), scores.std()))\n",
        "\n",
        "plt.figure()\n",
        "plt.plot(y.tail(47))\n",
        "plt.plot(y.tail(47).index, y_pred)\n",
        "\n",
        "plt.show()"
      ],
      "metadata": {
        "id": "JrsxzSCfwLtL",
        "colab": {
          "base_uri": "https://localhost:8080/",
          "height": 317
        },
        "outputId": "402b97a0-93dd-47e7-c60d-b8c399bcd9b0"
      },
      "id": "JrsxzSCfwLtL",
      "execution_count": null,
      "outputs": [
        {
          "output_type": "stream",
          "name": "stdout",
          "text": [
            "Mean squared error: 2762278153.39\n",
            "Coefficient of determination: -2.62\n",
            "-1777.98 accuracy with a standard deviation of 3661.01 AKA it sucks\n"
          ]
        },
        {
          "output_type": "display_data",
          "data": {
            "text/plain": [
              "<Figure size 432x288 with 1 Axes>"
            ],
            "image/png": "[encoded data removed]"
          },
          "metadata": {
            "needs_background": "light"
          }
        }
      ]
    },
    {
      "cell_type": "markdown",
      "source": [
        "## First Aproach"
      ],
      "metadata": {
        "id": "Sg15OHUbX150"
      },
      "id": "Sg15OHUbX150"
    },
    {
      "cell_type": "code",
      "source": [
        "from statsmodels.tsa.stattools import adfuller\n",
        "\n",
        "def test_stationarity(timeseries):\n",
        "    # Perform Dickey-Fuller test:\n",
        "    print('Results of Dickey-Fuller Test:')\n",
        "    dftest = adfuller(timeseries,maxlag=7*4, autolag='AIC')\n",
        "    dfoutput = pd.Series(dftest[0:4], index=['Test Statistic','p-value','#Lags Used','Number of Observations Used'])\n",
        "    for key,value in dftest[4].items():\n",
        "        dfoutput['Critical Value (%s)'%key] = value\n",
        "    print (round(dfoutput,3))\n",
        "\n",
        "test_stationarity(casos_nuevos.Santiago)"
      ],
      "metadata": {
        "colab": {
          "base_uri": "https://localhost:8080/"
        },
        "id": "bYzSgoi2X3_P",
        "outputId": "f3f0728f-bf1f-41b8-f13c-88616034f3a7"
      },
      "id": "bYzSgoi2X3_P",
      "execution_count": null,
      "outputs": [
        {
          "output_type": "stream",
          "name": "stdout",
          "text": [
            "Results of Dickey-Fuller Test:\n",
            "Test Statistic                  -4.353\n",
            "p-value                          0.000\n",
            "#Lags Used                       1.000\n",
            "Number of Observations Used    137.000\n",
            "Critical Value (1%)             -3.479\n",
            "Critical Value (5%)             -2.883\n",
            "Critical Value (10%)            -2.578\n",
            "dtype: float64\n"
          ]
        }
      ]
    },
    {
      "cell_type": "code",
      "source": [
        "from statsmodels.graphics.tsaplots import plot_acf,plot_pacf\n",
        "\n",
        "acf = plot_acf(casos_nuevos.Santiago)\n",
        "pacf = plot_pacf(casos_nuevos.Santiago)"
      ],
      "metadata": {
        "colab": {
          "base_uri": "https://localhost:8080/",
          "height": 545
        },
        "id": "fPdt7f7HeQvV",
        "outputId": "ae96b98c-25ec-4b8a-92de-7b01ed17a156"
      },
      "id": "fPdt7f7HeQvV",
      "execution_count": null,
      "outputs": [
        {
          "output_type": "display_data",
          "data": {
            "text/plain": [
              "<Figure size 432x288 with 1 Axes>"
            ],
            "image/png": "[encoded data removed]"
          },
          "metadata": {
            "needs_background": "light"
          }
        },
        {
          "output_type": "display_data",
          "data": {
            "text/plain": [
              "<Figure size 432x288 with 1 Axes>"
            ],
            "image/png": "[encoded data removed]"
          },
          "metadata": {
            "needs_background": "light"
          }
        }
      ]
    },
    {
      "cell_type": "code",
      "source": [
        "from statsmodels.tsa.statespace.sarimax import SARIMAX\n",
        "\n",
        "week2day = lambda x: datetime.strptime(\"2020-01-01\", \"%Y-%m-%d\") + timedelta(days=x*7)\n",
        "\n",
        "start = max(casos_nuevos.loc[:52].index.min(), var_salidas.loc[:52].index.min())\n",
        "end   = max(casos_nuevos.loc[:52].index.max(), var_salidas.loc[:52].index.max())\n",
        "\n",
        "\n",
        "endo = pd.Series(casos_nuevos.loc[:52][\"Santiago\"], index=[ week2day(i) for i in range(12,52) ])\n",
        "exo  = pd.DataFrame(var_salidas.loc[:52], index=[ week2day(i) for i in range(12,52) ]).interpolate()\n",
        "\n",
        "index = pd.date_range(week2day(int(start)), periods=40, freq='W-WED')\n",
        "endo.index = index\n",
        "exo.index  = index\n",
        "\n",
        "def sarimax(ts, exo, all_params):\n",
        "  results = []\n",
        "  for param in all_params:\n",
        "    try:\n",
        "      mod = SARIMAX(endo, exog=exo, order=param[0], seasonal_order=param[1])\n",
        "      res = mod.fit()\n",
        "\n",
        "      results.append((res, res.aic,param))\n",
        "      print('Tried out SARIMAX{}x{} - AIC:{}'.format(param[0], param[1], round(res.aic,2)))\n",
        "\n",
        "    except Exception as e:\n",
        "      print(e)\n",
        "      continue\n",
        "\n",
        "  return results"
      ],
      "metadata": {
        "id": "N5ENHrZ7eza5"
      },
      "id": "N5ENHrZ7eza5",
      "execution_count": null,
      "outputs": []
    },
    {
      "cell_type": "code",
      "source": [
        "#test_a = pd.Series(casos_nuevos.loc[:52][\"Santiago\"], index=range(12,52))\n",
        "#test_b = pd.DataFrame(var_salidas.loc[:52], index=range(12,52)).interpolate()\n",
        "\n",
        "#pd.infer_freq(index)\n",
        "b = pd.date_range(week2day(int(start)), periods=40, freq='W-WED')\n",
        "\n",
        "#endo.asfreq(\"W-WED\")\n",
        "display(exo.index)\n",
        "display(endo.index)"
      ],
      "metadata": {
        "colab": {
          "base_uri": "https://localhost:8080/",
          "height": 399
        },
        "id": "SQSA6MoYrzW5",
        "outputId": "2635263a-3fb4-4695-f9d7-7757bc6f18a5"
      },
      "id": "SQSA6MoYrzW5",
      "execution_count": null,
      "outputs": [
        {
          "output_type": "display_data",
          "data": {
            "text/plain": [
              "DatetimeIndex(['2020-03-25', '2020-04-01', '2020-04-08', '2020-04-15',\n",
              "               '2020-04-22', '2020-04-29', '2020-05-06', '2020-05-13',\n",
              "               '2020-05-20', '2020-05-27', '2020-06-03', '2020-06-10',\n",
              "               '2020-06-17', '2020-06-24', '2020-07-01', '2020-07-08',\n",
              "               '2020-07-15', '2020-07-22', '2020-07-29', '2020-08-05',\n",
              "               '2020-08-12', '2020-08-19', '2020-08-26', '2020-09-02',\n",
              "               '2020-09-09', '2020-09-16', '2020-09-23', '2020-09-30',\n",
              "               '2020-10-07', '2020-10-14', '2020-10-21', '2020-10-28',\n",
              "               '2020-11-04', '2020-11-11', '2020-11-18', '2020-11-25',\n",
              "               '2020-12-02', '2020-12-09', '2020-12-16', '2020-12-23'],\n",
              "              dtype='datetime64[ns]', freq='W-WED')"
            ]
          },
          "metadata": {}
        },
        {
          "output_type": "display_data",
          "data": {
            "text/plain": [
              "DatetimeIndex(['2020-03-25', '2020-04-01', '2020-04-08', '2020-04-15',\n",
              "               '2020-04-22', '2020-04-29', '2020-05-06', '2020-05-13',\n",
              "               '2020-05-20', '2020-05-27', '2020-06-03', '2020-06-10',\n",
              "               '2020-06-17', '2020-06-24', '2020-07-01', '2020-07-08',\n",
              "               '2020-07-15', '2020-07-22', '2020-07-29', '2020-08-05',\n",
              "               '2020-08-12', '2020-08-19', '2020-08-26', '2020-09-02',\n",
              "               '2020-09-09', '2020-09-16', '2020-09-23', '2020-09-30',\n",
              "               '2020-10-07', '2020-10-14', '2020-10-21', '2020-10-28',\n",
              "               '2020-11-04', '2020-11-11', '2020-11-18', '2020-11-25',\n",
              "               '2020-12-02', '2020-12-09', '2020-12-16', '2020-12-23'],\n",
              "              dtype='datetime64[ns]', freq='W-WED')"
            ]
          },
          "metadata": {}
        }
      ]
    },
    {
      "cell_type": "code",
      "source": [
        "import itertools\n",
        "\n",
        "# set parameter range\n",
        "p,d,q = range(0,3),[1],range(0,3)\n",
        "P,D,Q,s = range(0,3),[1],range(0,3),[7]\n",
        "# list of all parameter combos\n",
        "pdq = list(itertools.product(p, d, q))\n",
        "seasonal_pdq = list(itertools.product(P, D, Q, s))\n",
        "all_param = list(itertools.product(pdq,seasonal_pdq))\n",
        "\n",
        "all_res = sarimax(endo,exo,all_param)"
      ],
      "metadata": {
        "colab": {
          "base_uri": "https://localhost:8080/"
        },
        "id": "-oxJ9ugSgs7o",
        "outputId": "1cca3081-8673-466e-f863-e9ac58ba9980"
      },
      "id": "-oxJ9ugSgs7o",
      "execution_count": null,
      "outputs": [
        {
          "output_type": "stream",
          "name": "stdout",
          "text": [
            "exog contains inf or nans\n",
            "exog contains inf or nans\n",
            "exog contains inf or nans\n",
            "exog contains inf or nans\n",
            "exog contains inf or nans\n",
            "exog contains inf or nans\n",
            "exog contains inf or nans\n",
            "exog contains inf or nans\n",
            "exog contains inf or nans\n",
            "exog contains inf or nans\n",
            "exog contains inf or nans\n",
            "exog contains inf or nans\n",
            "exog contains inf or nans\n",
            "exog contains inf or nans\n",
            "exog contains inf or nans\n",
            "exog contains inf or nans\n",
            "exog contains inf or nans\n",
            "exog contains inf or nans\n",
            "exog contains inf or nans\n",
            "exog contains inf or nans\n",
            "exog contains inf or nans\n",
            "exog contains inf or nans\n",
            "exog contains inf or nans\n",
            "exog contains inf or nans\n",
            "exog contains inf or nans\n",
            "exog contains inf or nans\n",
            "exog contains inf or nans\n",
            "exog contains inf or nans\n",
            "exog contains inf or nans\n",
            "exog contains inf or nans\n",
            "exog contains inf or nans\n",
            "exog contains inf or nans\n",
            "exog contains inf or nans\n",
            "exog contains inf or nans\n",
            "exog contains inf or nans\n",
            "exog contains inf or nans\n",
            "exog contains inf or nans\n",
            "exog contains inf or nans\n",
            "exog contains inf or nans\n",
            "exog contains inf or nans\n",
            "exog contains inf or nans\n",
            "exog contains inf or nans\n",
            "exog contains inf or nans\n",
            "exog contains inf or nans\n",
            "exog contains inf or nans\n",
            "exog contains inf or nans\n",
            "exog contains inf or nans\n",
            "exog contains inf or nans\n",
            "exog contains inf or nans\n",
            "exog contains inf or nans\n",
            "exog contains inf or nans\n",
            "exog contains inf or nans\n",
            "exog contains inf or nans\n",
            "exog contains inf or nans\n",
            "exog contains inf or nans\n",
            "exog contains inf or nans\n",
            "exog contains inf or nans\n",
            "exog contains inf or nans\n",
            "exog contains inf or nans\n",
            "exog contains inf or nans\n",
            "exog contains inf or nans\n",
            "exog contains inf or nans\n",
            "exog contains inf or nans\n",
            "exog contains inf or nans\n",
            "exog contains inf or nans\n",
            "exog contains inf or nans\n",
            "exog contains inf or nans\n",
            "exog contains inf or nans\n",
            "exog contains inf or nans\n",
            "exog contains inf or nans\n",
            "exog contains inf or nans\n",
            "exog contains inf or nans\n",
            "exog contains inf or nans\n",
            "exog contains inf or nans\n",
            "exog contains inf or nans\n",
            "exog contains inf or nans\n",
            "exog contains inf or nans\n",
            "exog contains inf or nans\n",
            "exog contains inf or nans\n",
            "exog contains inf or nans\n",
            "exog contains inf or nans\n"
          ]
        }
      ]
    },
    {
      "cell_type": "code",
      "source": [],
      "metadata": {
        "id": "k5wyoPJMlvjF"
      },
      "id": "k5wyoPJMlvjF",
      "execution_count": null,
      "outputs": []
    }
  ],
  "metadata": {
    "kernelspec": {
      "display_name": "Python 3 (ipykernel)",
      "language": "python",
      "name": "python3"
    },
    "language_info": {
      "codemirror_mode": {
        "name": "ipython",
        "version": 3
      },
      "file_extension": ".py",
      "mimetype": "text/x-python",
      "name": "python",
      "nbconvert_exporter": "python",
      "pygments_lexer": "ipython3",
      "version": "3.10.8"
    },
    "colab": {
      "provenance": [],
      "include_colab_link": true
    }
  },
  "nbformat": 4,
  "nbformat_minor": 5
}