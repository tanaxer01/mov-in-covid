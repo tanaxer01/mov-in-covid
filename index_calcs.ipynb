{
  "cells": [
    {
      "cell_type": "code",
      "execution_count": 1,
      "id": "4c87beea",
      "metadata": {
        "colab": {
          "base_uri": "https://localhost:8080/"
        },
        "id": "4c87beea",
        "outputId": "97082c53-e75f-485e-d08e-83182c7294a3"
      },
      "outputs": [
        {
          "output_type": "stream",
          "name": "stdout",
          "text": [
            "Cloning into 'mov-in-covid'...\n",
            "remote: Enumerating objects: 13, done.\u001b[K\n",
            "remote: Counting objects: 100% (13/13), done.\u001b[K\n",
            "remote: Compressing objects: 100% (10/10), done.\u001b[K\n",
            "remote: Total 13 (delta 3), reused 11 (delta 1), pack-reused 0\u001b[K\n",
            "Unpacking objects: 100% (13/13), done.\n"
          ]
        }
      ],
      "source": [
        "!if [ ! -d mov-in-covid ]; then \\\n",
        "  git clone https://github.com/tanaxer01/mov-in-covid; \\\n",
        "  mv mov-in-covid/*.py .; fi\n",
        "\n",
        "from datetime import datetime\n",
        "import matplotlib.pyplot as plt\n",
        "import pandas as pd\n",
        "import numpy  as np\n",
        "import utils"
      ]
    },
    {
      "cell_type": "code",
      "source": [
        "datasets = {\n",
        "  # DP51\n",
        "  \"dp51_difs\": \"https://raw.githubusercontent.com/MinCiencia/Datos-COVID19/master/output/producto51/ISCI_std.csv\",\n",
        "  # DP82\n",
        "  \"dp82_weeks\": \"https://raw.githubusercontent.com/MinCiencia/Datos-COVID19/master/output/producto82/ISCI_weeks.csv\",\n",
        "  \"dp82_weekends\": \"https://raw.githubusercontent.com/MinCiencia/Datos-COVID19/master/output/producto82/ISCI_weekends.csv\",\n",
        "  # DP...\n",
        "}\n",
        "\n",
        "for name, url in datasets.items():\n",
        "  utils.get_file(name, url)"
      ],
      "metadata": {
        "colab": {
          "base_uri": "https://localhost:8080/"
        },
        "id": "dE7TsUSHPUKB",
        "outputId": "754cecb4-c3e3-4d9e-e176-da154c580e49"
      },
      "id": "dE7TsUSHPUKB",
      "execution_count": 2,
      "outputs": [
        {
          "output_type": "stream",
          "name": "stdout",
          "text": [
            "[+] created ./datos/\n",
            "[+] downloaded ./datos/dp51_difs\n",
            "[+] downloaded ./datos/dp82_weeks\n",
            "[+] downloaded ./datos/dp82_weekends\n"
          ]
        }
      ]
    },
    {
      "cell_type": "markdown",
      "source": [
        "# DATASET PREP"
      ],
      "metadata": {
        "id": "Sp7qZnX4aqkG"
      },
      "id": "Sp7qZnX4aqkG"
    },
    {
      "cell_type": "markdown",
      "source": [
        "## DP51"
      ],
      "metadata": {
        "id": "j4zvxr6La0jQ"
      },
      "id": "j4zvxr6La0jQ"
    },
    {
      "cell_type": "code",
      "source": [
        "df_difs = pd.read_csv(\"./datos/dp51_difs.csv\")\n",
        "\n",
        "# Just RM\n",
        "df_difs = df_difs[ df_difs['Codigo region'] == 13 ].drop(columns=['Region', 'Codigo region'])\n",
        "\n",
        "df_difs['Fecha'] = pd.to_datetime(df_difs['Fecha'])\n",
        "df_difs = df_difs.sort_values(by=['Fecha'])\n",
        "\n",
        "def parse_diff(x):\n",
        "  a, b = [ int(i) for i in x[1:-2].replace('%','').split(\",\") ]\n",
        "  return (b+a)/2\n",
        "\n",
        "df_difs['salida'] = df_difs['Dif salida'].map(parse_diff)\n",
        "\n",
        "salida_comuna = df_difs[ df_difs['Comuna'] == 'Santiago' ].groupby('Fecha')['salida'].mean()\n",
        "\n",
        "salida_comuna"
      ],
      "metadata": {
        "colab": {
          "base_uri": "https://localhost:8080/"
        },
        "id": "DvR68yc3aa1e",
        "outputId": "fa969e37-f7cd-445b-d688-482fc059ff8f"
      },
      "id": "DvR68yc3aa1e",
      "execution_count": 3,
      "outputs": [
        {
          "output_type": "execute_result",
          "data": {
            "text/plain": [
              "Fecha\n",
              "2020-03-02    10.174419\n",
              "2020-03-09    10.174419\n",
              "2020-03-16     2.732558\n",
              "2020-03-23   -15.096899\n",
              "2020-03-30   -20.910853\n",
              "                ...    \n",
              "2022-03-28     9.717054\n",
              "2022-04-04     8.321705\n",
              "2022-04-11     9.717054\n",
              "2022-04-18     8.321705\n",
              "2022-04-25    10.422481\n",
              "Name: salida, Length: 110, dtype: float64"
            ]
          },
          "metadata": {},
          "execution_count": 3
        }
      ]
    },
    {
      "cell_type": "markdown",
      "source": [
        "## DP82"
      ],
      "metadata": {
        "id": "XfcaMXTGa3DB"
      },
      "id": "XfcaMXTGa3DB"
    },
    {
      "cell_type": "code",
      "source": [
        "df_weeks = pd.read_csv('./datos/dp82_weeks.csv')\n",
        "#df_weekends = pd.read_csv('./datos/dp82_weekends.csv')\n",
        "\n",
        "# Just RM\n",
        "df_weeks = df_weeks[ df_weeks['region'] == 13 ].drop(columns=['region'])\n",
        "\n",
        "#df_weeks['fecha_inicio'] = pd.to_datetime(df_weeks['fecha_inicio'])\n",
        "#df_weeks = df_weeks.sort_values(by=['fecha_inicio'])\n",
        "\n",
        "#df_weeks[ df_weeks['nom_comuna'] == 'SANTIAGO' ].head()"
      ],
      "metadata": {
        "id": "Sj3laWPMa4gi"
      },
      "id": "Sj3laWPMa4gi",
      "execution_count": 23,
      "outputs": []
    },
    {
      "cell_type": "code",
      "source": [
        "df_weeks.info()"
      ],
      "metadata": {
        "colab": {
          "base_uri": "https://localhost:8080/"
        },
        "id": "IYqBMyOS2ftq",
        "outputId": "0a47f4da-fff0-4c7c-eaf8-30f576806878"
      },
      "id": "IYqBMyOS2ftq",
      "execution_count": 24,
      "outputs": [
        {
          "output_type": "stream",
          "name": "stdout",
          "text": [
            "<class 'pandas.core.frame.DataFrame'>\n",
            "Int64Index: 6120 entries, 8784 to 14903\n",
            "Data columns (total 9 columns):\n",
            " #   Column                     Non-Null Count  Dtype  \n",
            "---  ------                     --------------  -----  \n",
            " 0   semana                     6120 non-null   int64  \n",
            " 1   paso                       5304 non-null   float64\n",
            " 2   nom_comuna                 6120 non-null   object \n",
            " 3   comuna                     6120 non-null   int64  \n",
            " 4   fecha_inicio               6120 non-null   object \n",
            " 5   fecha_termino              6120 non-null   object \n",
            " 6   var_salidas                6120 non-null   float64\n",
            " 7   var_salidas_cota_inferior  6120 non-null   float64\n",
            " 8   var_salidas_cota_superior  6120 non-null   float64\n",
            "dtypes: float64(4), int64(2), object(3)\n",
            "memory usage: 478.1+ KB\n"
          ]
        }
      ]
    },
    {
      "cell_type": "code",
      "source": [
        "print(df_weeks[ ~np.isnan(df_weeks['paso']) ]['semana'].iloc[[0, -1]])\n",
        "print(df_weeks[ np.isnan(df_weeks['paso']) ]['semana'].iloc[[0, -1]])"
      ],
      "metadata": {
        "colab": {
          "base_uri": "https://localhost:8080/"
        },
        "id": "psZUaVnq5-nu",
        "outputId": "e343e6fd-d8ee-4ec7-8491-c7eda264584e"
      },
      "id": "psZUaVnq5-nu",
      "execution_count": 32,
      "outputs": [
        {
          "output_type": "stream",
          "name": "stdout",
          "text": [
            "8784       9\n",
            "14888    117\n",
            "Name: semana, dtype: int64\n",
            "8876     105\n",
            "14903    132\n",
            "Name: semana, dtype: int64\n"
          ]
        }
      ]
    },
    {
      "cell_type": "code",
      "source": [],
      "metadata": {
        "id": "bWMIUbY87qYf"
      },
      "id": "bWMIUbY87qYf",
      "execution_count": null,
      "outputs": []
    }
  ],
  "metadata": {
    "kernelspec": {
      "display_name": "Python 3 (ipykernel)",
      "language": "python",
      "name": "python3"
    },
    "language_info": {
      "codemirror_mode": {
        "name": "ipython",
        "version": 3
      },
      "file_extension": ".py",
      "mimetype": "text/x-python",
      "name": "python",
      "nbconvert_exporter": "python",
      "pygments_lexer": "ipython3",
      "version": "3.10.8"
    },
    "colab": {
      "provenance": []
    }
  },
  "nbformat": 4,
  "nbformat_minor": 5
}