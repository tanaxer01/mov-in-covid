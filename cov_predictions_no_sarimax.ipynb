{
  "nbformat": 4,
  "nbformat_minor": 0,
  "metadata": {
    "colab": {
      "provenance": [],
      "collapsed_sections": [
        "EjOB2razSw2B",
        "nor-2QHvRt-N",
        "nsaFw0UXuic2",
        "3NPLGNR-RLyW",
        "WPdA2XUYBA3S",
        "A7pdRARcP-Zt",
        "c8ZkztI8XjyX"
      ],
      "mount_file_id": "1-Njq0B25Q9skB-1sex70f6iOjSZ2_opu",
      "authorship_tag": "ABX9TyPS1W2th1aCTctGJGKQIwSW",
      "include_colab_link": true
    },
    "kernelspec": {
      "name": "python3",
      "display_name": "Python 3"
    },
    "language_info": {
      "name": "python"
    }
  },
  "cells": [
    {
      "cell_type": "markdown",
      "metadata": {
        "id": "view-in-github",
        "colab_type": "text"
      },
      "source": [
        "<a href=\"https://colab.research.google.com/github/tanaxer01/mov-in-covid/blob/main/cov_predictions_no_sarimax.ipynb\" target=\"_parent\"><img src=\"https://colab.research.google.com/assets/colab-badge.svg\" alt=\"Open In Colab\"/></a>"
      ]
    },
    {
      "cell_type": "code",
      "execution_count": 1,
      "metadata": {
        "id": "84icOP6TSmLT"
      },
      "outputs": [],
      "source": [
        "%%capture\n",
        "!pip install unidecode\n",
        "\n",
        "import os\n",
        "import numpy as np\n",
        "import pandas as pd\n",
        "import matplotlib.pyplot as plt\n",
        "\n",
        "from requests import get\n",
        "from zipfile import ZipFile\n",
        "from threading import Thread\n",
        "from unidecode import unidecode\n",
        "from datetime import datetime, timedelta"
      ]
    },
    {
      "cell_type": "markdown",
      "source": [
        "# GITHUB Datasets"
      ],
      "metadata": {
        "id": "0YJJrpaORzlr"
      }
    },
    {
      "cell_type": "markdown",
      "source": [
        "## base"
      ],
      "metadata": {
        "id": "EjOB2razSw2B"
      }
    },
    {
      "cell_type": "code",
      "source": [
        "datasets = {\n",
        "  # DP1\n",
        "  \"dp1_contagios\": \"https://raw.githubusercontent.com/MinCiencia/Datos-COVID19/master/output/producto1/Covid-19_std.csv\",\n",
        "  # DP7\n",
        "  \"dp7_pcr\": \"https://raw.githubusercontent.com/MinCiencia/Datos-COVID19/master/output/producto7/PCR_std.csv\",\n",
        "  # DP20\n",
        "  \"dp20_camas\": \"https://raw.githubusercontent.com/MinCiencia/Datos-COVID19/master/output/producto20/NumeroVentiladores_std.csv\",\n",
        "  # DP51\n",
        "  \"dp51_difs\": \"https://raw.githubusercontent.com/MinCiencia/Datos-COVID19/master/output/producto51/ISCI_std.csv\",\n",
        "  # DP82\n",
        "  \"dp82_weeks\": \"https://raw.githubusercontent.com/MinCiencia/Datos-COVID19/master/output/producto82/ISCI_weeks.csv\",\n",
        "  \"dp82_weekends\": \"https://raw.githubusercontent.com/MinCiencia/Datos-COVID19/master/output/producto82/ISCI_weekends.csv\",\n",
        "}\n",
        "\n",
        "if not os.path.exists(\"./datos\"):\n",
        "  os.mkdir(\"./datos\")\n",
        "\n",
        "for name, url in datasets.items():\n",
        "  if not os.path.exists(f\"./datos/{name}.csv\"):\n",
        "    with open(f\"./datos/{name}.csv\", \"w\") as archivo:\n",
        "      archivo.write( get(url).content.decode() ) "
      ],
      "metadata": {
        "id": "h2CD1ruyQ3Sn"
      },
      "execution_count": 2,
      "outputs": []
    },
    {
      "cell_type": "markdown",
      "source": [
        "## DP1"
      ],
      "metadata": {
        "id": "B7o86nJfSM0A"
      }
    },
    {
      "cell_type": "code",
      "source": [
        "DataProduct1 = pd.read_csv(\"./datos/dp1_contagios.csv\", parse_dates=[\"Fecha\"])\n",
        "\n",
        "# Just RM\n",
        "DataProduct1 = DataProduct1[ (DataProduct1[\"Codigo region\"] == 13) & (DataProduct1[\"Comuna\"] != \"Desconocido Metropolitana\") ]\n",
        "# Remove garbage\n",
        "DataProduct1 = DataProduct1.set_index(\"Fecha\").drop(columns=[\"Region\", \"Codigo region\"])\n",
        "DataProduct1['Comuna'] = DataProduct1['Comuna'].apply(lambda x: unidecode(x).lower())\n",
        "\n",
        "######### ######### ######### ######### ######### ######### ######### ######### #########\n",
        "\n",
        "## cov_all: Cantidad de contagios acumulativa x comuna(columnas) y fecha(index)\n",
        "cov_all = DataProduct1.pivot_table(values=\"Casos confirmados\", index=\"Fecha\", columns=\"Comuna\").rename(columns=lambda x: unidecode(x).lower())  \n",
        "## cov_new: Cantidad de contagios nuevos x comuna(columnas) y fecha(index)\n",
        "cov_new = cov_all.subtract( cov_all.shift(periods=1, fill_value=0) )\n",
        "cov_new.head(1)"
      ],
      "metadata": {
        "colab": {
          "base_uri": "https://localhost:8080/",
          "height": 142
        },
        "id": "JckIdOlmS3Od",
        "outputId": "3325486a-dbfa-41fe-fa18-0165a7ff8ef9"
      },
      "execution_count": 3,
      "outputs": [
        {
          "output_type": "execute_result",
          "data": {
            "text/plain": [
              "Comuna      alhue  buin  calera de tango  cerrillos  cerro navia  colina  \\\n",
              "Fecha                                                                      \n",
              "2020-03-30    0.0   7.0              6.0        0.0         19.0    32.0   \n",
              "\n",
              "Comuna      conchali  curacavi  el bosque  el monte  ...  san bernardo  \\\n",
              "Fecha                                                ...                 \n",
              "2020-03-30      14.0       5.0       18.0       0.0  ...          32.0   \n",
              "\n",
              "Comuna      san joaquin  san jose de maipo  san miguel  san pedro  san ramon  \\\n",
              "Fecha                                                                          \n",
              "2020-03-30         13.0                0.0        25.0        0.0        0.0   \n",
              "\n",
              "Comuna      santiago  talagante  tiltil  vitacura  \n",
              "Fecha                                              \n",
              "2020-03-30     127.0        0.0     0.0      83.0  \n",
              "\n",
              "[1 rows x 52 columns]"
            ],
            "text/html": [
              "\n",
              "  <div id=\"df-fdedf7a8-0f70-4841-9dc3-e18623421f05\">\n",
              "    <div class=\"colab-df-container\">\n",
              "      <div>\n",
              "<style scoped>\n",
              "    .dataframe tbody tr th:only-of-type {\n",
              "        vertical-align: middle;\n",
              "    }\n",
              "\n",
              "    .dataframe tbody tr th {\n",
              "        vertical-align: top;\n",
              "    }\n",
              "\n",
              "    .dataframe thead th {\n",
              "        text-align: right;\n",
              "    }\n",
              "</style>\n",
              "<table border=\"1\" class=\"dataframe\">\n",
              "  <thead>\n",
              "    <tr style=\"text-align: right;\">\n",
              "      <th>Comuna</th>\n",
              "      <th>alhue</th>\n",
              "      <th>buin</th>\n",
              "      <th>calera de tango</th>\n",
              "      <th>cerrillos</th>\n",
              "      <th>cerro navia</th>\n",
              "      <th>colina</th>\n",
              "      <th>conchali</th>\n",
              "      <th>curacavi</th>\n",
              "      <th>el bosque</th>\n",
              "      <th>el monte</th>\n",
              "      <th>...</th>\n",
              "      <th>san bernardo</th>\n",
              "      <th>san joaquin</th>\n",
              "      <th>san jose de maipo</th>\n",
              "      <th>san miguel</th>\n",
              "      <th>san pedro</th>\n",
              "      <th>san ramon</th>\n",
              "      <th>santiago</th>\n",
              "      <th>talagante</th>\n",
              "      <th>tiltil</th>\n",
              "      <th>vitacura</th>\n",
              "    </tr>\n",
              "    <tr>\n",
              "      <th>Fecha</th>\n",
              "      <th></th>\n",
              "      <th></th>\n",
              "      <th></th>\n",
              "      <th></th>\n",
              "      <th></th>\n",
              "      <th></th>\n",
              "      <th></th>\n",
              "      <th></th>\n",
              "      <th></th>\n",
              "      <th></th>\n",
              "      <th></th>\n",
              "      <th></th>\n",
              "      <th></th>\n",
              "      <th></th>\n",
              "      <th></th>\n",
              "      <th></th>\n",
              "      <th></th>\n",
              "      <th></th>\n",
              "      <th></th>\n",
              "      <th></th>\n",
              "      <th></th>\n",
              "    </tr>\n",
              "  </thead>\n",
              "  <tbody>\n",
              "    <tr>\n",
              "      <th>2020-03-30</th>\n",
              "      <td>0.0</td>\n",
              "      <td>7.0</td>\n",
              "      <td>6.0</td>\n",
              "      <td>0.0</td>\n",
              "      <td>19.0</td>\n",
              "      <td>32.0</td>\n",
              "      <td>14.0</td>\n",
              "      <td>5.0</td>\n",
              "      <td>18.0</td>\n",
              "      <td>0.0</td>\n",
              "      <td>...</td>\n",
              "      <td>32.0</td>\n",
              "      <td>13.0</td>\n",
              "      <td>0.0</td>\n",
              "      <td>25.0</td>\n",
              "      <td>0.0</td>\n",
              "      <td>0.0</td>\n",
              "      <td>127.0</td>\n",
              "      <td>0.0</td>\n",
              "      <td>0.0</td>\n",
              "      <td>83.0</td>\n",
              "    </tr>\n",
              "  </tbody>\n",
              "</table>\n",
              "<p>1 rows × 52 columns</p>\n",
              "</div>\n",
              "      <button class=\"colab-df-convert\" onclick=\"convertToInteractive('df-fdedf7a8-0f70-4841-9dc3-e18623421f05')\"\n",
              "              title=\"Convert this dataframe to an interactive table.\"\n",
              "              style=\"display:none;\">\n",
              "        \n",
              "  <svg xmlns=\"http://www.w3.org/2000/svg\" height=\"24px\"viewBox=\"0 0 24 24\"\n",
              "       width=\"24px\">\n",
              "    <path d=\"M0 0h24v24H0V0z\" fill=\"none\"/>\n",
              "    <path d=\"M18.56 5.44l.94 2.06.94-2.06 2.06-.94-2.06-.94-.94-2.06-.94 2.06-2.06.94zm-11 1L8.5 8.5l.94-2.06 2.06-.94-2.06-.94L8.5 2.5l-.94 2.06-2.06.94zm10 10l.94 2.06.94-2.06 2.06-.94-2.06-.94-.94-2.06-.94 2.06-2.06.94z\"/><path d=\"M17.41 7.96l-1.37-1.37c-.4-.4-.92-.59-1.43-.59-.52 0-1.04.2-1.43.59L10.3 9.45l-7.72 7.72c-.78.78-.78 2.05 0 2.83L4 21.41c.39.39.9.59 1.41.59.51 0 1.02-.2 1.41-.59l7.78-7.78 2.81-2.81c.8-.78.8-2.07 0-2.86zM5.41 20L4 18.59l7.72-7.72 1.47 1.35L5.41 20z\"/>\n",
              "  </svg>\n",
              "      </button>\n",
              "      \n",
              "  <style>\n",
              "    .colab-df-container {\n",
              "      display:flex;\n",
              "      flex-wrap:wrap;\n",
              "      gap: 12px;\n",
              "    }\n",
              "\n",
              "    .colab-df-convert {\n",
              "      background-color: #E8F0FE;\n",
              "      border: none;\n",
              "      border-radius: 50%;\n",
              "      cursor: pointer;\n",
              "      display: none;\n",
              "      fill: #1967D2;\n",
              "      height: 32px;\n",
              "      padding: 0 0 0 0;\n",
              "      width: 32px;\n",
              "    }\n",
              "\n",
              "    .colab-df-convert:hover {\n",
              "      background-color: #E2EBFA;\n",
              "      box-shadow: 0px 1px 2px rgba(60, 64, 67, 0.3), 0px 1px 3px 1px rgba(60, 64, 67, 0.15);\n",
              "      fill: #174EA6;\n",
              "    }\n",
              "\n",
              "    [theme=dark] .colab-df-convert {\n",
              "      background-color: #3B4455;\n",
              "      fill: #D2E3FC;\n",
              "    }\n",
              "\n",
              "    [theme=dark] .colab-df-convert:hover {\n",
              "      background-color: #434B5C;\n",
              "      box-shadow: 0px 1px 3px 1px rgba(0, 0, 0, 0.15);\n",
              "      filter: drop-shadow(0px 1px 2px rgba(0, 0, 0, 0.3));\n",
              "      fill: #FFFFFF;\n",
              "    }\n",
              "  </style>\n",
              "\n",
              "      <script>\n",
              "        const buttonEl =\n",
              "          document.querySelector('#df-fdedf7a8-0f70-4841-9dc3-e18623421f05 button.colab-df-convert');\n",
              "        buttonEl.style.display =\n",
              "          google.colab.kernel.accessAllowed ? 'block' : 'none';\n",
              "\n",
              "        async function convertToInteractive(key) {\n",
              "          const element = document.querySelector('#df-fdedf7a8-0f70-4841-9dc3-e18623421f05');\n",
              "          const dataTable =\n",
              "            await google.colab.kernel.invokeFunction('convertToInteractive',\n",
              "                                                     [key], {});\n",
              "          if (!dataTable) return;\n",
              "\n",
              "          const docLinkHtml = 'Like what you see? Visit the ' +\n",
              "            '<a target=\"_blank\" href=https://colab.research.google.com/notebooks/data_table.ipynb>data table notebook</a>'\n",
              "            + ' to learn more about interactive tables.';\n",
              "          element.innerHTML = '';\n",
              "          dataTable['output_type'] = 'display_data';\n",
              "          await google.colab.output.renderOutput(dataTable, element);\n",
              "          const docLink = document.createElement('div');\n",
              "          docLink.innerHTML = docLinkHtml;\n",
              "          element.appendChild(docLink);\n",
              "        }\n",
              "      </script>\n",
              "    </div>\n",
              "  </div>\n",
              "  "
            ]
          },
          "metadata": {},
          "execution_count": 3
        }
      ]
    },
    {
      "cell_type": "markdown",
      "source": [
        "## DP7"
      ],
      "metadata": {
        "id": "6K3VUSI0VsEX"
      }
    },
    {
      "cell_type": "code",
      "source": [
        "DataProduct7 = pd.read_csv(\"./datos/dp7_pcr.csv\", parse_dates=[\"fecha\"])\n",
        "\n",
        "# Just RM\n",
        "DataProduct7 = DataProduct7[ DataProduct7['Codigo region'] == 13 ]\n",
        "DataProduct7 = DataProduct7.set_index(\"fecha\").drop(columns=[\"Region\", \"Codigo region\", \"Poblacion\"])\n",
        "\n",
        "######### ######### ######### ######### ######### ######### ######### ######### #########\n",
        "\n",
        "# cant_pcr: cantidad de pcr realizados por dia a nivel regional.\n",
        "cant_pcr = DataProduct7[\"numero\"]\n",
        "cant_pcr.head(5)"
      ],
      "metadata": {
        "colab": {
          "base_uri": "https://localhost:8080/",
          "height": 0
        },
        "id": "KJ8G33klVvli",
        "outputId": "3294444d-738c-4ceb-da86-56045a0bc8ca"
      },
      "execution_count": 4,
      "outputs": [
        {
          "output_type": "execute_result",
          "data": {
            "text/plain": [
              "fecha\n",
              "2020-04-09    5383.0\n",
              "2020-04-10    3185.0\n",
              "2020-04-11    2105.0\n",
              "2020-04-12    3861.0\n",
              "2020-04-13    1850.0\n",
              "Name: numero, dtype: float64"
            ]
          },
          "metadata": {},
          "execution_count": 4
        }
      ]
    },
    {
      "cell_type": "markdown",
      "source": [
        "## DP20"
      ],
      "metadata": {
        "id": "K-o62g7WXK7_"
      }
    },
    {
      "cell_type": "code",
      "source": [
        "DataProduct20 = pd.read_csv(\"./datos/dp20_camas.csv\", parse_dates=[\"fecha\"])\n",
        "DataProduct20 = DataProduct20.set_index(\"fecha\")\n",
        "\n",
        "######### ######### ######### ######### ######### ######### ######### ######### #########\n",
        "\n",
        "# camas_criticas: Dataset que contiene el numero de camas criticas disp y ocupadas a nivel nacional.\n",
        "camas_criticas = pd.DataFrame({ \n",
        "    \"totales\": DataProduct20[ DataProduct20.Ventiladores == \"total\" ][\"numero\"],\n",
        "    \"disponibles\": DataProduct20[ DataProduct20.Ventiladores == \"disponibles\" ][\"numero\"],\n",
        "    \"ocupados\": DataProduct20[ DataProduct20.Ventiladores == \"ocupados\" ][\"numero\"]\n",
        "})\n",
        "\n",
        "camas_criticas.head(3)"
      ],
      "metadata": {
        "colab": {
          "base_uri": "https://localhost:8080/",
          "height": 175
        },
        "id": "emcI2vNKXLMY",
        "outputId": "28831a16-1fe2-4822-9837-c974a845d7a9"
      },
      "execution_count": 5,
      "outputs": [
        {
          "output_type": "execute_result",
          "data": {
            "text/plain": [
              "            totales  disponibles  ocupados\n",
              "fecha                                     \n",
              "2020-04-14     1550          564       986\n",
              "2020-04-15     1563          577       986\n",
              "2020-04-16     1582          569      1013"
            ],
            "text/html": [
              "\n",
              "  <div id=\"df-5285c9cd-b596-45a9-932d-45ec15f074bc\">\n",
              "    <div class=\"colab-df-container\">\n",
              "      <div>\n",
              "<style scoped>\n",
              "    .dataframe tbody tr th:only-of-type {\n",
              "        vertical-align: middle;\n",
              "    }\n",
              "\n",
              "    .dataframe tbody tr th {\n",
              "        vertical-align: top;\n",
              "    }\n",
              "\n",
              "    .dataframe thead th {\n",
              "        text-align: right;\n",
              "    }\n",
              "</style>\n",
              "<table border=\"1\" class=\"dataframe\">\n",
              "  <thead>\n",
              "    <tr style=\"text-align: right;\">\n",
              "      <th></th>\n",
              "      <th>totales</th>\n",
              "      <th>disponibles</th>\n",
              "      <th>ocupados</th>\n",
              "    </tr>\n",
              "    <tr>\n",
              "      <th>fecha</th>\n",
              "      <th></th>\n",
              "      <th></th>\n",
              "      <th></th>\n",
              "    </tr>\n",
              "  </thead>\n",
              "  <tbody>\n",
              "    <tr>\n",
              "      <th>2020-04-14</th>\n",
              "      <td>1550</td>\n",
              "      <td>564</td>\n",
              "      <td>986</td>\n",
              "    </tr>\n",
              "    <tr>\n",
              "      <th>2020-04-15</th>\n",
              "      <td>1563</td>\n",
              "      <td>577</td>\n",
              "      <td>986</td>\n",
              "    </tr>\n",
              "    <tr>\n",
              "      <th>2020-04-16</th>\n",
              "      <td>1582</td>\n",
              "      <td>569</td>\n",
              "      <td>1013</td>\n",
              "    </tr>\n",
              "  </tbody>\n",
              "</table>\n",
              "</div>\n",
              "      <button class=\"colab-df-convert\" onclick=\"convertToInteractive('df-5285c9cd-b596-45a9-932d-45ec15f074bc')\"\n",
              "              title=\"Convert this dataframe to an interactive table.\"\n",
              "              style=\"display:none;\">\n",
              "        \n",
              "  <svg xmlns=\"http://www.w3.org/2000/svg\" height=\"24px\"viewBox=\"0 0 24 24\"\n",
              "       width=\"24px\">\n",
              "    <path d=\"M0 0h24v24H0V0z\" fill=\"none\"/>\n",
              "    <path d=\"M18.56 5.44l.94 2.06.94-2.06 2.06-.94-2.06-.94-.94-2.06-.94 2.06-2.06.94zm-11 1L8.5 8.5l.94-2.06 2.06-.94-2.06-.94L8.5 2.5l-.94 2.06-2.06.94zm10 10l.94 2.06.94-2.06 2.06-.94-2.06-.94-.94-2.06-.94 2.06-2.06.94z\"/><path d=\"M17.41 7.96l-1.37-1.37c-.4-.4-.92-.59-1.43-.59-.52 0-1.04.2-1.43.59L10.3 9.45l-7.72 7.72c-.78.78-.78 2.05 0 2.83L4 21.41c.39.39.9.59 1.41.59.51 0 1.02-.2 1.41-.59l7.78-7.78 2.81-2.81c.8-.78.8-2.07 0-2.86zM5.41 20L4 18.59l7.72-7.72 1.47 1.35L5.41 20z\"/>\n",
              "  </svg>\n",
              "      </button>\n",
              "      \n",
              "  <style>\n",
              "    .colab-df-container {\n",
              "      display:flex;\n",
              "      flex-wrap:wrap;\n",
              "      gap: 12px;\n",
              "    }\n",
              "\n",
              "    .colab-df-convert {\n",
              "      background-color: #E8F0FE;\n",
              "      border: none;\n",
              "      border-radius: 50%;\n",
              "      cursor: pointer;\n",
              "      display: none;\n",
              "      fill: #1967D2;\n",
              "      height: 32px;\n",
              "      padding: 0 0 0 0;\n",
              "      width: 32px;\n",
              "    }\n",
              "\n",
              "    .colab-df-convert:hover {\n",
              "      background-color: #E2EBFA;\n",
              "      box-shadow: 0px 1px 2px rgba(60, 64, 67, 0.3), 0px 1px 3px 1px rgba(60, 64, 67, 0.15);\n",
              "      fill: #174EA6;\n",
              "    }\n",
              "\n",
              "    [theme=dark] .colab-df-convert {\n",
              "      background-color: #3B4455;\n",
              "      fill: #D2E3FC;\n",
              "    }\n",
              "\n",
              "    [theme=dark] .colab-df-convert:hover {\n",
              "      background-color: #434B5C;\n",
              "      box-shadow: 0px 1px 3px 1px rgba(0, 0, 0, 0.15);\n",
              "      filter: drop-shadow(0px 1px 2px rgba(0, 0, 0, 0.3));\n",
              "      fill: #FFFFFF;\n",
              "    }\n",
              "  </style>\n",
              "\n",
              "      <script>\n",
              "        const buttonEl =\n",
              "          document.querySelector('#df-5285c9cd-b596-45a9-932d-45ec15f074bc button.colab-df-convert');\n",
              "        buttonEl.style.display =\n",
              "          google.colab.kernel.accessAllowed ? 'block' : 'none';\n",
              "\n",
              "        async function convertToInteractive(key) {\n",
              "          const element = document.querySelector('#df-5285c9cd-b596-45a9-932d-45ec15f074bc');\n",
              "          const dataTable =\n",
              "            await google.colab.kernel.invokeFunction('convertToInteractive',\n",
              "                                                     [key], {});\n",
              "          if (!dataTable) return;\n",
              "\n",
              "          const docLinkHtml = 'Like what you see? Visit the ' +\n",
              "            '<a target=\"_blank\" href=https://colab.research.google.com/notebooks/data_table.ipynb>data table notebook</a>'\n",
              "            + ' to learn more about interactive tables.';\n",
              "          element.innerHTML = '';\n",
              "          dataTable['output_type'] = 'display_data';\n",
              "          await google.colab.output.renderOutput(dataTable, element);\n",
              "          const docLink = document.createElement('div');\n",
              "          docLink.innerHTML = docLinkHtml;\n",
              "          element.appendChild(docLink);\n",
              "        }\n",
              "      </script>\n",
              "    </div>\n",
              "  </div>\n",
              "  "
            ]
          },
          "metadata": {},
          "execution_count": 5
        }
      ]
    },
    {
      "cell_type": "markdown",
      "source": [
        "## DP51"
      ],
      "metadata": {
        "id": "Ap1izykLZpbq"
      }
    },
    {
      "cell_type": "code",
      "source": [
        "DataProduct51 = pd.read_csv(\"./datos/dp51_difs.csv\", parse_dates=[\"Fecha\"])\n",
        "DataProduct51 = DataProduct51[ DataProduct51['Codigo region'] == 13 ].drop(columns=['Region', 'Codigo region', 'Cartodb id'])\n",
        "\n",
        "parse_diff = lambda x: (100 + sum([ int(i)  for i in x[1:-2].replace('%','').split(\",\") ])/2)/ 100\n",
        "\n",
        "DataProduct51['Comuna'] = DataProduct51['Comuna'].apply(lambda x: unidecode(x).lower()) \n",
        "\n",
        "DataProduct51['Salida']  = DataProduct51['Dif salida'].map(parse_diff)\n",
        "DataProduct51['Entrada'] = DataProduct51['Dif entrada'].map(parse_diff)\n",
        "\n",
        "######### ######### ######### ######### ######### ######### ######### ######### #########\n",
        "\n",
        "# IM_salida: Valor promedio de la variación porcentual de salida entre las manzanas censales de cada comuna.\n",
        "IM_salida = DataProduct51.groupby(['Fecha', 'Comuna'], as_index=False)[\"Salida\"].mean()\n",
        "IM_salida = IM_salida.pivot_table(values=\"Salida\", columns=\"Comuna\", index=\"Fecha\")\n",
        "# IM_entrada: Valor promedio de la variación porcentual de entrada entre las manzanas censales de cada comuna.\n",
        "IM_entrada = DataProduct51.groupby(['Fecha', 'Comuna'], as_index=False)[\"Entrada\"].mean()\n",
        "IM_entrada = IM_entrada.pivot_table(values=\"Entrada\", columns=\"Comuna\", index=\"Fecha\")\n",
        "\n",
        "IM_salida.head(2)"
      ],
      "metadata": {
        "colab": {
          "base_uri": "https://localhost:8080/",
          "height": 173
        },
        "id": "xdTt4QqIZpr1",
        "outputId": "b4f2c494-f679-4740-8f12-5c86da4af5e3"
      },
      "execution_count": 6,
      "outputs": [
        {
          "output_type": "execute_result",
          "data": {
            "text/plain": [
              "Comuna      alhue      buin  calera de tango  cerrillos  cerro navia  colina  \\\n",
              "Fecha                                                                          \n",
              "2020-03-02  0.995  1.072143            1.265   1.149286        1.175  1.2875   \n",
              "2020-03-09  0.995  1.072143            1.265   1.149286        1.175  1.2875   \n",
              "\n",
              "Comuna      conchali  curacavi  el bosque  el monte  ...   renca  \\\n",
              "Fecha                                                ...           \n",
              "2020-03-02  1.140385   1.29875      1.265     1.085  ...  1.1975   \n",
              "2020-03-09  1.140385   1.29875      1.265     1.085  ...  1.1975   \n",
              "\n",
              "Comuna      san bernardo  san joaquin  san jose de maipo  san miguel  \\\n",
              "Fecha                                                                  \n",
              "2020-03-02      1.173676     1.139643              0.995    1.345417   \n",
              "2020-03-09      1.173676     1.139643              0.995    1.332500   \n",
              "\n",
              "Comuna      san ramon  santiago  talagante  tiltil  vitacura  \n",
              "Fecha                                                         \n",
              "2020-03-02   1.031818  1.101744      1.157   1.319  1.026154  \n",
              "2020-03-09   1.031818  1.101744      1.157   1.319  1.026154  \n",
              "\n",
              "[2 rows x 51 columns]"
            ],
            "text/html": [
              "\n",
              "  <div id=\"df-5676a9a4-db54-4627-b182-d5a33ed49db2\">\n",
              "    <div class=\"colab-df-container\">\n",
              "      <div>\n",
              "<style scoped>\n",
              "    .dataframe tbody tr th:only-of-type {\n",
              "        vertical-align: middle;\n",
              "    }\n",
              "\n",
              "    .dataframe tbody tr th {\n",
              "        vertical-align: top;\n",
              "    }\n",
              "\n",
              "    .dataframe thead th {\n",
              "        text-align: right;\n",
              "    }\n",
              "</style>\n",
              "<table border=\"1\" class=\"dataframe\">\n",
              "  <thead>\n",
              "    <tr style=\"text-align: right;\">\n",
              "      <th>Comuna</th>\n",
              "      <th>alhue</th>\n",
              "      <th>buin</th>\n",
              "      <th>calera de tango</th>\n",
              "      <th>cerrillos</th>\n",
              "      <th>cerro navia</th>\n",
              "      <th>colina</th>\n",
              "      <th>conchali</th>\n",
              "      <th>curacavi</th>\n",
              "      <th>el bosque</th>\n",
              "      <th>el monte</th>\n",
              "      <th>...</th>\n",
              "      <th>renca</th>\n",
              "      <th>san bernardo</th>\n",
              "      <th>san joaquin</th>\n",
              "      <th>san jose de maipo</th>\n",
              "      <th>san miguel</th>\n",
              "      <th>san ramon</th>\n",
              "      <th>santiago</th>\n",
              "      <th>talagante</th>\n",
              "      <th>tiltil</th>\n",
              "      <th>vitacura</th>\n",
              "    </tr>\n",
              "    <tr>\n",
              "      <th>Fecha</th>\n",
              "      <th></th>\n",
              "      <th></th>\n",
              "      <th></th>\n",
              "      <th></th>\n",
              "      <th></th>\n",
              "      <th></th>\n",
              "      <th></th>\n",
              "      <th></th>\n",
              "      <th></th>\n",
              "      <th></th>\n",
              "      <th></th>\n",
              "      <th></th>\n",
              "      <th></th>\n",
              "      <th></th>\n",
              "      <th></th>\n",
              "      <th></th>\n",
              "      <th></th>\n",
              "      <th></th>\n",
              "      <th></th>\n",
              "      <th></th>\n",
              "      <th></th>\n",
              "    </tr>\n",
              "  </thead>\n",
              "  <tbody>\n",
              "    <tr>\n",
              "      <th>2020-03-02</th>\n",
              "      <td>0.995</td>\n",
              "      <td>1.072143</td>\n",
              "      <td>1.265</td>\n",
              "      <td>1.149286</td>\n",
              "      <td>1.175</td>\n",
              "      <td>1.2875</td>\n",
              "      <td>1.140385</td>\n",
              "      <td>1.29875</td>\n",
              "      <td>1.265</td>\n",
              "      <td>1.085</td>\n",
              "      <td>...</td>\n",
              "      <td>1.1975</td>\n",
              "      <td>1.173676</td>\n",
              "      <td>1.139643</td>\n",
              "      <td>0.995</td>\n",
              "      <td>1.345417</td>\n",
              "      <td>1.031818</td>\n",
              "      <td>1.101744</td>\n",
              "      <td>1.157</td>\n",
              "      <td>1.319</td>\n",
              "      <td>1.026154</td>\n",
              "    </tr>\n",
              "    <tr>\n",
              "      <th>2020-03-09</th>\n",
              "      <td>0.995</td>\n",
              "      <td>1.072143</td>\n",
              "      <td>1.265</td>\n",
              "      <td>1.149286</td>\n",
              "      <td>1.175</td>\n",
              "      <td>1.2875</td>\n",
              "      <td>1.140385</td>\n",
              "      <td>1.29875</td>\n",
              "      <td>1.265</td>\n",
              "      <td>1.085</td>\n",
              "      <td>...</td>\n",
              "      <td>1.1975</td>\n",
              "      <td>1.173676</td>\n",
              "      <td>1.139643</td>\n",
              "      <td>0.995</td>\n",
              "      <td>1.332500</td>\n",
              "      <td>1.031818</td>\n",
              "      <td>1.101744</td>\n",
              "      <td>1.157</td>\n",
              "      <td>1.319</td>\n",
              "      <td>1.026154</td>\n",
              "    </tr>\n",
              "  </tbody>\n",
              "</table>\n",
              "<p>2 rows × 51 columns</p>\n",
              "</div>\n",
              "      <button class=\"colab-df-convert\" onclick=\"convertToInteractive('df-5676a9a4-db54-4627-b182-d5a33ed49db2')\"\n",
              "              title=\"Convert this dataframe to an interactive table.\"\n",
              "              style=\"display:none;\">\n",
              "        \n",
              "  <svg xmlns=\"http://www.w3.org/2000/svg\" height=\"24px\"viewBox=\"0 0 24 24\"\n",
              "       width=\"24px\">\n",
              "    <path d=\"M0 0h24v24H0V0z\" fill=\"none\"/>\n",
              "    <path d=\"M18.56 5.44l.94 2.06.94-2.06 2.06-.94-2.06-.94-.94-2.06-.94 2.06-2.06.94zm-11 1L8.5 8.5l.94-2.06 2.06-.94-2.06-.94L8.5 2.5l-.94 2.06-2.06.94zm10 10l.94 2.06.94-2.06 2.06-.94-2.06-.94-.94-2.06-.94 2.06-2.06.94z\"/><path d=\"M17.41 7.96l-1.37-1.37c-.4-.4-.92-.59-1.43-.59-.52 0-1.04.2-1.43.59L10.3 9.45l-7.72 7.72c-.78.78-.78 2.05 0 2.83L4 21.41c.39.39.9.59 1.41.59.51 0 1.02-.2 1.41-.59l7.78-7.78 2.81-2.81c.8-.78.8-2.07 0-2.86zM5.41 20L4 18.59l7.72-7.72 1.47 1.35L5.41 20z\"/>\n",
              "  </svg>\n",
              "      </button>\n",
              "      \n",
              "  <style>\n",
              "    .colab-df-container {\n",
              "      display:flex;\n",
              "      flex-wrap:wrap;\n",
              "      gap: 12px;\n",
              "    }\n",
              "\n",
              "    .colab-df-convert {\n",
              "      background-color: #E8F0FE;\n",
              "      border: none;\n",
              "      border-radius: 50%;\n",
              "      cursor: pointer;\n",
              "      display: none;\n",
              "      fill: #1967D2;\n",
              "      height: 32px;\n",
              "      padding: 0 0 0 0;\n",
              "      width: 32px;\n",
              "    }\n",
              "\n",
              "    .colab-df-convert:hover {\n",
              "      background-color: #E2EBFA;\n",
              "      box-shadow: 0px 1px 2px rgba(60, 64, 67, 0.3), 0px 1px 3px 1px rgba(60, 64, 67, 0.15);\n",
              "      fill: #174EA6;\n",
              "    }\n",
              "\n",
              "    [theme=dark] .colab-df-convert {\n",
              "      background-color: #3B4455;\n",
              "      fill: #D2E3FC;\n",
              "    }\n",
              "\n",
              "    [theme=dark] .colab-df-convert:hover {\n",
              "      background-color: #434B5C;\n",
              "      box-shadow: 0px 1px 3px 1px rgba(0, 0, 0, 0.15);\n",
              "      filter: drop-shadow(0px 1px 2px rgba(0, 0, 0, 0.3));\n",
              "      fill: #FFFFFF;\n",
              "    }\n",
              "  </style>\n",
              "\n",
              "      <script>\n",
              "        const buttonEl =\n",
              "          document.querySelector('#df-5676a9a4-db54-4627-b182-d5a33ed49db2 button.colab-df-convert');\n",
              "        buttonEl.style.display =\n",
              "          google.colab.kernel.accessAllowed ? 'block' : 'none';\n",
              "\n",
              "        async function convertToInteractive(key) {\n",
              "          const element = document.querySelector('#df-5676a9a4-db54-4627-b182-d5a33ed49db2');\n",
              "          const dataTable =\n",
              "            await google.colab.kernel.invokeFunction('convertToInteractive',\n",
              "                                                     [key], {});\n",
              "          if (!dataTable) return;\n",
              "\n",
              "          const docLinkHtml = 'Like what you see? Visit the ' +\n",
              "            '<a target=\"_blank\" href=https://colab.research.google.com/notebooks/data_table.ipynb>data table notebook</a>'\n",
              "            + ' to learn more about interactive tables.';\n",
              "          element.innerHTML = '';\n",
              "          dataTable['output_type'] = 'display_data';\n",
              "          await google.colab.output.renderOutput(dataTable, element);\n",
              "          const docLink = document.createElement('div');\n",
              "          docLink.innerHTML = docLinkHtml;\n",
              "          element.appendChild(docLink);\n",
              "        }\n",
              "      </script>\n",
              "    </div>\n",
              "  </div>\n",
              "  "
            ]
          },
          "metadata": {},
          "execution_count": 6
        }
      ]
    },
    {
      "cell_type": "markdown",
      "source": [
        "## DP82"
      ],
      "metadata": {
        "id": "-CMt9-XIeYrR"
      }
    },
    {
      "cell_type": "code",
      "source": [
        "DataProduct82a = pd.read_csv('./datos/dp82_weeks.csv', parse_dates=[\"fecha_inicio\"])\n",
        "DataProduct82b = pd.read_csv('./datos/dp82_weekends.csv', parse_dates=[\"fecha_inicio\"])\n",
        "\n",
        "DataProduct82 = pd.concat([DataProduct82a, DataProduct82b]).sort_values(\"fecha_inicio\")\n",
        "\n",
        "DataProduct82 = DataProduct82[ DataProduct82['region'] == 13 ].drop(columns=['region'])\n",
        "DataProduct82[\"paso\"] = DataProduct82[\"paso\"].fillna(method=\"ffill\")\n",
        "DataProduct82[\"nom_comuna\"] = DataProduct82[\"nom_comuna\"].apply(lambda x: unidecode(x).lower())\n",
        "\n",
        "# ######### ######### ######### ######### ######### ######### ######### ######### #########\n",
        "\n",
        "# paso_a_paso: Etapas del paso a paso de cada comuna por dia.\n",
        "paso_a_paso = DataProduct82.pivot_table(values='paso', index='fecha_inicio', columns='nom_comuna')\n",
        "\n",
        "# # var_salidas: Variación del IM de salida de cada comuna por dia.\n",
        "var_salidas = DataProduct82.pivot_table(values=\"var_salidas\", index=\"fecha_inicio\", columns=\"nom_comuna\")\n",
        "\n",
        "[ i for i in DataProduct82[\"nom_comuna\"].drop_duplicates() if 'san' in i]"
      ],
      "metadata": {
        "id": "VQX8Lmxfd6vh",
        "colab": {
          "base_uri": "https://localhost:8080/",
          "height": 0
        },
        "outputId": "f3ee1893-9721-4292-e6fa-39f210ac523f"
      },
      "execution_count": 7,
      "outputs": [
        {
          "output_type": "execute_result",
          "data": {
            "text/plain": [
              "['santiago',\n",
              " 'san joaquin',\n",
              " 'san miguel',\n",
              " 'san bernardo',\n",
              " 'san jose de maipo',\n",
              " 'san ramon']"
            ]
          },
          "metadata": {},
          "execution_count": 7
        }
      ]
    },
    {
      "cell_type": "markdown",
      "source": [
        "# DRIVE Dataset"
      ],
      "metadata": {
        "id": "nor-2QHvRt-N"
      }
    },
    {
      "cell_type": "code",
      "source": [
        "DATA_DIR = \"drive/MyDrive/Datasets/\"\n",
        "FILES = {\n",
        "  \"enero\":   \"01_18al24_enero_2021.zip\",\n",
        "  \"febrero\": \"02_08al14_febrero_2021.zip\",\n",
        "  \"marzo\":   \"03_15al21_marzo_2021.zip\",\n",
        "  \"abril\":   \"04_12al18_abril_2021.zip\",\n",
        "  \"mayo\":    \"05_10al16_mayo_2021.zip\",\n",
        "  \"junio\":   \"06_7al13_junio_2021.zip\",\n",
        "  \"julio\":   \"07_05al11_julio_2021.zip\"\n",
        "}\n",
        "\n",
        "PROCESS = False "
      ],
      "metadata": {
        "id": "ZIw5BJdqnMXC"
      },
      "execution_count": 21,
      "outputs": []
    },
    {
      "cell_type": "markdown",
      "source": [
        "### Calculo Población flotante - Threads"
      ],
      "metadata": {
        "id": "nsaFw0UXuic2"
      }
    },
    {
      "cell_type": "code",
      "source": [
        "import concurrent.futures\n",
        "import logging\n",
        "\n",
        "def process_file(input_path, output_path):\n",
        "  logging.debug(f\"[+] processing {input_path}\")\n",
        "  # Datos principales\n",
        "  principal_cols = [ 'netapa', 'tiempo_subida', 'comuna_subida', 'comuna_bajada' ] \n",
        "  # Datos segundarios (En vola usarlos)\n",
        "  secondary_cols = [ 'dist_eucl_paraderos', 'periodosubida']\n",
        "\n",
        "  date = lambda x: x.tiempo_subida[5:10]\n",
        "\n",
        "  with ZipFile(input_path) as zip:\n",
        "    mes = pd.read_csv(zip.open(zip.namelist()[0]), usecols=principal_cols, na_values=\"-\", chunksize=100000)\n",
        "\n",
        "  rows = pd.DataFrame(columns=[\"tiempo_subida\", \"comuna_subida\", \"comuna_bajada\", \"netapa\"])\n",
        "  for num, chunk in enumerate(mes):\n",
        "    temp = chunk[\"tiempo_subida\"].str[10:13].astype(int)\n",
        "    chunk[\"tiempo_subida\"] = chunk.tiempo_subida.apply(lambda x: x[5:10])\n",
        "    chunk = chunk[ (chunk.netapa == 1) & (temp < 10) & (temp > 5) ]\n",
        "\n",
        "    suma = chunk.groupby([\"tiempo_subida\", \"comuna_subida\", \"comuna_bajada\"], as_index=False).count()\n",
        "    counts = counts.append(suma, ignore_index=True)\n",
        "\n",
        "  logging.debug(f\"[+] ended {input_path}\")\n",
        "  counts = counts.rename(columns={\"netapa\": \"viajes\"})\n",
        "  counts.to_csv(output_path, index=False)\n",
        "  \n",
        "  \n",
        "\n",
        "\n",
        "if PROCESS:\n",
        "  with concurrent.futures.ThreadPoolExecutor(max_workers = 7) as executor:\n",
        "    futures = [ executor.submit(process_file, DATA_DIR+j, DATA_DIR+f\"calcs/{i}_nums.csv\") for i, j in FILES.items() ] \n",
        "  \n",
        "    done, not_done = concurrent.futures.wait(futures, return_when=concurrent.futures.ALL_COMPLETED) \n",
        "    print(done)"
      ],
      "metadata": {
        "id": "JN0VU74NulqN"
      },
      "execution_count": null,
      "outputs": []
    },
    {
      "cell_type": "markdown",
      "source": [
        "### Importación numeros"
      ],
      "metadata": {
        "id": "WPdA2XUYBA3S"
      }
    },
    {
      "cell_type": "code",
      "source": [
        "import os\n",
        "\n",
        "viajes = pd.DataFrame(columns=[\"tiempo_subida\", \"comuna_subida\", \"comuna_bajada\", \"viajes\"])\n",
        "for i in os.listdir(DATA_DIR + \"calcs\"):\n",
        "  curr = pd.read_csv(DATA_DIR+\"calcs/\"+i)\n",
        "  \n",
        "  mes  = curr.tiempo_subida.iloc[0][:2]\n",
        "\n",
        "  # FIX WRONGLY WRITTEN COMMUNES\n",
        "  curr[\"comuna_subida\"] = curr[\"comuna_subida\"].map(unidecode)\n",
        "  curr[\"comuna_bajada\"] = curr[\"comuna_bajada\"].map(unidecode)\n",
        "\n",
        "  # GROUP BY date, source & destiny\n",
        "  curr = curr.groupby([\"tiempo_subida\", \"comuna_subida\", \"comuna_bajada\"], as_index=False).sum()\n",
        "  viajes = viajes.append( curr )\n",
        "\n",
        "# pob_flot = viajes[viajes[\"comuna_subida\"] == \"santiago\"].groupby([ \"tiempo_subida\" ], as_index=False)[\"viajes\"].sum()\n",
        "# pob_flot[\"tiempo_subida\"] = suma[\"tiempo_subida\"].apply(lambda x: datetime.strptime(\"2021-\"+x, \"%Y-%m-%d\"))\n",
        "\n",
        "# suma\n",
        "viajes"
      ],
      "metadata": {
        "id": "Yg-9XD_zyFT3",
        "colab": {
          "base_uri": "https://localhost:8080/",
          "height": 424
        },
        "outputId": "52f894b1-f358-4a15-9fed-ed6ba9095f21"
      },
      "execution_count": 26,
      "outputs": [
        {
          "output_type": "execute_result",
          "data": {
            "text/plain": [
              "     tiempo_subida comuna_subida     comuna_bajada viajes\n",
              "0            04-12     CERRILLOS         CERRILLOS   1096\n",
              "1            04-12     CERRILLOS          CONCHALI     12\n",
              "2            04-12     CERRILLOS         EL BOSQUE      4\n",
              "3            04-12     CERRILLOS  ESTACION CENTRAL   1096\n",
              "4            04-12     CERRILLOS     INDEPENDENCIA     20\n",
              "...            ...           ...               ...    ...\n",
              "6399         07-11      VITACURA     QUINTA NORMAL     26\n",
              "6400         07-11      VITACURA          RECOLETA     24\n",
              "6401         07-11      VITACURA         SAN RAMON      7\n",
              "6402         07-11      VITACURA          SANTIAGO    114\n",
              "6403         07-11      VITACURA          VITACURA     75\n",
              "\n",
              "[44582 rows x 4 columns]"
            ],
            "text/html": [
              "\n",
              "  <div id=\"df-9ee9b11d-4ca0-4121-976e-dce5e1e9dddf\">\n",
              "    <div class=\"colab-df-container\">\n",
              "      <div>\n",
              "<style scoped>\n",
              "    .dataframe tbody tr th:only-of-type {\n",
              "        vertical-align: middle;\n",
              "    }\n",
              "\n",
              "    .dataframe tbody tr th {\n",
              "        vertical-align: top;\n",
              "    }\n",
              "\n",
              "    .dataframe thead th {\n",
              "        text-align: right;\n",
              "    }\n",
              "</style>\n",
              "<table border=\"1\" class=\"dataframe\">\n",
              "  <thead>\n",
              "    <tr style=\"text-align: right;\">\n",
              "      <th></th>\n",
              "      <th>tiempo_subida</th>\n",
              "      <th>comuna_subida</th>\n",
              "      <th>comuna_bajada</th>\n",
              "      <th>viajes</th>\n",
              "    </tr>\n",
              "  </thead>\n",
              "  <tbody>\n",
              "    <tr>\n",
              "      <th>0</th>\n",
              "      <td>04-12</td>\n",
              "      <td>CERRILLOS</td>\n",
              "      <td>CERRILLOS</td>\n",
              "      <td>1096</td>\n",
              "    </tr>\n",
              "    <tr>\n",
              "      <th>1</th>\n",
              "      <td>04-12</td>\n",
              "      <td>CERRILLOS</td>\n",
              "      <td>CONCHALI</td>\n",
              "      <td>12</td>\n",
              "    </tr>\n",
              "    <tr>\n",
              "      <th>2</th>\n",
              "      <td>04-12</td>\n",
              "      <td>CERRILLOS</td>\n",
              "      <td>EL BOSQUE</td>\n",
              "      <td>4</td>\n",
              "    </tr>\n",
              "    <tr>\n",
              "      <th>3</th>\n",
              "      <td>04-12</td>\n",
              "      <td>CERRILLOS</td>\n",
              "      <td>ESTACION CENTRAL</td>\n",
              "      <td>1096</td>\n",
              "    </tr>\n",
              "    <tr>\n",
              "      <th>4</th>\n",
              "      <td>04-12</td>\n",
              "      <td>CERRILLOS</td>\n",
              "      <td>INDEPENDENCIA</td>\n",
              "      <td>20</td>\n",
              "    </tr>\n",
              "    <tr>\n",
              "      <th>...</th>\n",
              "      <td>...</td>\n",
              "      <td>...</td>\n",
              "      <td>...</td>\n",
              "      <td>...</td>\n",
              "    </tr>\n",
              "    <tr>\n",
              "      <th>6399</th>\n",
              "      <td>07-11</td>\n",
              "      <td>VITACURA</td>\n",
              "      <td>QUINTA NORMAL</td>\n",
              "      <td>26</td>\n",
              "    </tr>\n",
              "    <tr>\n",
              "      <th>6400</th>\n",
              "      <td>07-11</td>\n",
              "      <td>VITACURA</td>\n",
              "      <td>RECOLETA</td>\n",
              "      <td>24</td>\n",
              "    </tr>\n",
              "    <tr>\n",
              "      <th>6401</th>\n",
              "      <td>07-11</td>\n",
              "      <td>VITACURA</td>\n",
              "      <td>SAN RAMON</td>\n",
              "      <td>7</td>\n",
              "    </tr>\n",
              "    <tr>\n",
              "      <th>6402</th>\n",
              "      <td>07-11</td>\n",
              "      <td>VITACURA</td>\n",
              "      <td>SANTIAGO</td>\n",
              "      <td>114</td>\n",
              "    </tr>\n",
              "    <tr>\n",
              "      <th>6403</th>\n",
              "      <td>07-11</td>\n",
              "      <td>VITACURA</td>\n",
              "      <td>VITACURA</td>\n",
              "      <td>75</td>\n",
              "    </tr>\n",
              "  </tbody>\n",
              "</table>\n",
              "<p>44582 rows × 4 columns</p>\n",
              "</div>\n",
              "      <button class=\"colab-df-convert\" onclick=\"convertToInteractive('df-9ee9b11d-4ca0-4121-976e-dce5e1e9dddf')\"\n",
              "              title=\"Convert this dataframe to an interactive table.\"\n",
              "              style=\"display:none;\">\n",
              "        \n",
              "  <svg xmlns=\"http://www.w3.org/2000/svg\" height=\"24px\"viewBox=\"0 0 24 24\"\n",
              "       width=\"24px\">\n",
              "    <path d=\"M0 0h24v24H0V0z\" fill=\"none\"/>\n",
              "    <path d=\"M18.56 5.44l.94 2.06.94-2.06 2.06-.94-2.06-.94-.94-2.06-.94 2.06-2.06.94zm-11 1L8.5 8.5l.94-2.06 2.06-.94-2.06-.94L8.5 2.5l-.94 2.06-2.06.94zm10 10l.94 2.06.94-2.06 2.06-.94-2.06-.94-.94-2.06-.94 2.06-2.06.94z\"/><path d=\"M17.41 7.96l-1.37-1.37c-.4-.4-.92-.59-1.43-.59-.52 0-1.04.2-1.43.59L10.3 9.45l-7.72 7.72c-.78.78-.78 2.05 0 2.83L4 21.41c.39.39.9.59 1.41.59.51 0 1.02-.2 1.41-.59l7.78-7.78 2.81-2.81c.8-.78.8-2.07 0-2.86zM5.41 20L4 18.59l7.72-7.72 1.47 1.35L5.41 20z\"/>\n",
              "  </svg>\n",
              "      </button>\n",
              "      \n",
              "  <style>\n",
              "    .colab-df-container {\n",
              "      display:flex;\n",
              "      flex-wrap:wrap;\n",
              "      gap: 12px;\n",
              "    }\n",
              "\n",
              "    .colab-df-convert {\n",
              "      background-color: #E8F0FE;\n",
              "      border: none;\n",
              "      border-radius: 50%;\n",
              "      cursor: pointer;\n",
              "      display: none;\n",
              "      fill: #1967D2;\n",
              "      height: 32px;\n",
              "      padding: 0 0 0 0;\n",
              "      width: 32px;\n",
              "    }\n",
              "\n",
              "    .colab-df-convert:hover {\n",
              "      background-color: #E2EBFA;\n",
              "      box-shadow: 0px 1px 2px rgba(60, 64, 67, 0.3), 0px 1px 3px 1px rgba(60, 64, 67, 0.15);\n",
              "      fill: #174EA6;\n",
              "    }\n",
              "\n",
              "    [theme=dark] .colab-df-convert {\n",
              "      background-color: #3B4455;\n",
              "      fill: #D2E3FC;\n",
              "    }\n",
              "\n",
              "    [theme=dark] .colab-df-convert:hover {\n",
              "      background-color: #434B5C;\n",
              "      box-shadow: 0px 1px 3px 1px rgba(0, 0, 0, 0.15);\n",
              "      filter: drop-shadow(0px 1px 2px rgba(0, 0, 0, 0.3));\n",
              "      fill: #FFFFFF;\n",
              "    }\n",
              "  </style>\n",
              "\n",
              "      <script>\n",
              "        const buttonEl =\n",
              "          document.querySelector('#df-9ee9b11d-4ca0-4121-976e-dce5e1e9dddf button.colab-df-convert');\n",
              "        buttonEl.style.display =\n",
              "          google.colab.kernel.accessAllowed ? 'block' : 'none';\n",
              "\n",
              "        async function convertToInteractive(key) {\n",
              "          const element = document.querySelector('#df-9ee9b11d-4ca0-4121-976e-dce5e1e9dddf');\n",
              "          const dataTable =\n",
              "            await google.colab.kernel.invokeFunction('convertToInteractive',\n",
              "                                                     [key], {});\n",
              "          if (!dataTable) return;\n",
              "\n",
              "          const docLinkHtml = 'Like what you see? Visit the ' +\n",
              "            '<a target=\"_blank\" href=https://colab.research.google.com/notebooks/data_table.ipynb>data table notebook</a>'\n",
              "            + ' to learn more about interactive tables.';\n",
              "          element.innerHTML = '';\n",
              "          dataTable['output_type'] = 'display_data';\n",
              "          await google.colab.output.renderOutput(dataTable, element);\n",
              "          const docLink = document.createElement('div');\n",
              "          docLink.innerHTML = docLinkHtml;\n",
              "          element.appendChild(docLink);\n",
              "        }\n",
              "      </script>\n",
              "    </div>\n",
              "  </div>\n",
              "  "
            ]
          },
          "metadata": {},
          "execution_count": 26
        }
      ]
    },
    {
      "cell_type": "markdown",
      "source": [
        "# Join Data"
      ],
      "metadata": {
        "id": "aTLCVm-P9bXn"
      }
    },
    {
      "cell_type": "code",
      "source": [
        "datasets = { \n",
        "    \"nuevos_contagios\":  cov_new.santiago,         # Cada 2/3 dias\n",
        "    \"pcrs_realizados\":   cant_pcr,                 # Todos los dias\n",
        "    \"camas_ocupadas\":    camas_criticas.ocupados,  # Todos los dias\n",
        "    # \"variacion_entrada\": IM_entrada.santiago,       \n",
        "    \"variacion_salida\":  var_salidas.santiago,\n",
        "    \"paso_comuna\":       paso_a_paso.santiago\n",
        "}\n",
        "\n",
        "data = pd.DataFrame(datasets)\n",
        "\n",
        "print(\"Rows with NA vs clean ones: \", list(data.isna().any(axis=1).value_counts()), \"\\n\") # Cant de filas con y sin NA values\n",
        "print(data.isna().sum(), \"\\n\") # Cant de NA x col"
      ],
      "metadata": {
        "colab": {
          "base_uri": "https://localhost:8080/",
          "height": 0
        },
        "id": "pPX6D1119iDu",
        "outputId": "2fe30ec8-4e03-484a-f6b0-b6641d3cf7c9"
      },
      "execution_count": 29,
      "outputs": [
        {
          "output_type": "stream",
          "name": "stdout",
          "text": [
            "Rows with NA vs clean ones:  [875, 111] \n",
            "\n",
            "nuevos_contagios    707\n",
            "pcrs_realizados      15\n",
            "camas_ocupadas       20\n",
            "variacion_salida    746\n",
            "paso_comuna         747\n",
            "dtype: int64 \n",
            "\n"
          ]
        }
      ]
    },
    {
      "cell_type": "markdown",
      "source": [
        "1. Acotar las fechas en las que se comprende el estudio"
      ],
      "metadata": {
        "id": "JCvMaG7TfQS6"
      }
    },
    {
      "cell_type": "code",
      "source": [
        "start_date = max([ i.index.min() for i in datasets.values() ])\n",
        "end_date   = min([ i.index.max() for i in datasets.values() ])\n",
        "\n",
        "data = data.loc[start_date:end_date]\n",
        "print(f\"Fechas a usar deben estar entre {start_date} y {end_date}\")\n",
        "print(\"Rows with NA vs clean ones: \", list(data.isna().any(axis=1).value_counts()), \"\\n\") # Cant de filas con y sin NA values\n",
        "print(data.isna().sum(), \"\\n\") # Cant de NA x col"
      ],
      "metadata": {
        "colab": {
          "base_uri": "https://localhost:8080/",
          "height": 0
        },
        "id": "vdNpc0gPfM6U",
        "outputId": "12ff99f0-6b46-475d-a26a-cddf4e6d86db"
      },
      "execution_count": 30,
      "outputs": [
        {
          "output_type": "stream",
          "name": "stdout",
          "text": [
            "Fechas a usar deben estar entre 2020-04-14 00:00:00 y 2022-07-16 00:00:00\n",
            "Rows with NA vs clean ones:  [713, 111] \n",
            "\n",
            "nuevos_contagios    589\n",
            "pcrs_realizados       0\n",
            "camas_ocupadas        0\n",
            "variacion_salida    598\n",
            "paso_comuna         598\n",
            "dtype: int64 \n",
            "\n"
          ]
        }
      ]
    },
    {
      "cell_type": "markdown",
      "source": [
        "2. Tambien se pueden limpiar los datasets por separado haciendo uso de ciertos criterios"
      ],
      "metadata": {
        "id": "nnaH6eSpfjX7"
      }
    },
    {
      "cell_type": "code",
      "source": [
        "# 2. Interpolar ciertos datos\n",
        "print(\"A) Nuevos contagios\")\n",
        "print(f\"  Si interpolamos cierta cantidad de datos podemos reducir el numero de NAs a:\", pd.DataFrame({ str(i): data[\"nuevos_contagios\"].interpolate(limit=i) for i in range(1,4)}).isna().sum(), sep=\"\\n\")\n",
        "\n",
        "data[\"nuevos_contagios\"] = data[\"nuevos_contagios\"].interpolate(limit=3)\n",
        "\n",
        "# print(\"B) Variacion_entrada\")\n",
        "# print(f\"  Si interpolamos cierta cantidad de datos podemos reducir el numero de NAs a:\", pd.DataFrame({ str(i): data[\"variacion_entrada\"].interpolate(limit=i) for i in range(1,5)}).isna().sum(), sep=\"\\n\")\n",
        "\n",
        "print(\"C) Variacion_salida\")\n",
        "print(f\"  Si interpolamos cierta cantidad de datos podemos reducir el numero de NAs a:\", pd.DataFrame({ str(i): data[\"variacion_salida\"].interpolate(limit=i) for i in range(1,5)}).isna().sum(), sep=\"\\n\")\n",
        "\n",
        "data[\"variacion_salida\"] = data[\"variacion_salida\"].interpolate(limit=3)\n",
        "\n",
        "print(\"D) Paso_comuna\")\n",
        "print(\" Ya que el paso a paso solo se reevalua una vez por semana podemos rellenar ciertos valores reduciendo el num de NAs a :\", data[\"paso_comuna\"].fillna(method='ffill').isna().sum())\n",
        "\n",
        "data[\"paso_comuna\"] = data[\"paso_comuna\"].fillna(method='ffill') \n",
        "\n",
        "\n",
        "print(f\"Fechas a usar deben estar entre {start_date} y {end_date}\")\n",
        "print(\"Rows with NA vs clean ones: \", list(data.isna().any(axis=1).value_counts()), \"\\n\") # Cant de filas con y sin NA values\n",
        "print(data.isna().sum(), \"\\n\") # Cant de NA x col\n",
        "\n",
        "data = data.dropna()\n",
        "data = (data-data.mean())/data.std()\n",
        "\n",
        "data.plot()"
      ],
      "metadata": {
        "colab": {
          "base_uri": "https://localhost:8080/",
          "height": 1027
        },
        "id": "SgKc7ijsfjAz",
        "outputId": "55876065-5195-4d42-dfaa-8859cac96945"
      },
      "execution_count": 31,
      "outputs": [
        {
          "output_type": "stream",
          "name": "stdout",
          "text": [
            "A) Nuevos contagios\n",
            "  Si interpolamos cierta cantidad de datos podemos reducir el numero de NAs a:\n",
            "1    354\n",
            "2    122\n",
            "3      4\n",
            "dtype: int64\n",
            "C) Variacion_salida\n",
            "  Si interpolamos cierta cantidad de datos podemos reducir el numero de NAs a:\n",
            "1    375\n",
            "2    258\n",
            "3    141\n",
            "4     24\n",
            "dtype: int64\n",
            "D) Paso_comuna\n",
            " Ya que el paso a paso solo se reevalua una vez por semana podemos rellenar ciertos valores reduciendo el num de NAs a : 4\n",
            "Fechas a usar deben estar entre 2020-04-14 00:00:00 y 2022-07-16 00:00:00\n",
            "Rows with NA vs clean ones:  [681, 143] \n",
            "\n",
            "nuevos_contagios      4\n",
            "pcrs_realizados       0\n",
            "camas_ocupadas        0\n",
            "variacion_salida    141\n",
            "paso_comuna           4\n",
            "dtype: int64 \n",
            "\n"
          ]
        },
        {
          "output_type": "stream",
          "name": "stderr",
          "text": [
            "<ipython-input-31-a1ec13826041>:5: SettingWithCopyWarning: \n",
            "A value is trying to be set on a copy of a slice from a DataFrame.\n",
            "Try using .loc[row_indexer,col_indexer] = value instead\n",
            "\n",
            "See the caveats in the documentation: https://pandas.pydata.org/pandas-docs/stable/user_guide/indexing.html#returning-a-view-versus-a-copy\n",
            "  data[\"nuevos_contagios\"] = data[\"nuevos_contagios\"].interpolate(limit=3)\n",
            "<ipython-input-31-a1ec13826041>:13: SettingWithCopyWarning: \n",
            "A value is trying to be set on a copy of a slice from a DataFrame.\n",
            "Try using .loc[row_indexer,col_indexer] = value instead\n",
            "\n",
            "See the caveats in the documentation: https://pandas.pydata.org/pandas-docs/stable/user_guide/indexing.html#returning-a-view-versus-a-copy\n",
            "  data[\"variacion_salida\"] = data[\"variacion_salida\"].interpolate(limit=3)\n",
            "<ipython-input-31-a1ec13826041>:18: SettingWithCopyWarning: \n",
            "A value is trying to be set on a copy of a slice from a DataFrame.\n",
            "Try using .loc[row_indexer,col_indexer] = value instead\n",
            "\n",
            "See the caveats in the documentation: https://pandas.pydata.org/pandas-docs/stable/user_guide/indexing.html#returning-a-view-versus-a-copy\n",
            "  data[\"paso_comuna\"] = data[\"paso_comuna\"].fillna(method='ffill')\n"
          ]
        },
        {
          "output_type": "execute_result",
          "data": {
            "text/plain": [
              "<matplotlib.axes._subplots.AxesSubplot at 0x7f3f0e2d4ac0>"
            ]
          },
          "metadata": {},
          "execution_count": 31
        },
        {
          "output_type": "display_data",
          "data": {
            "text/plain": [
              "<Figure size 432x288 with 1 Axes>"
            ],
            "image/png": "[encoded data removed]"
          },
          "metadata": {
            "needs_background": "light"
          }
        }
      ]
    },
    {
      "cell_type": "markdown",
      "source": [
        "# Regresión Lineal"
      ],
      "metadata": {
        "id": "qXB1ckPWggEZ"
      }
    },
    {
      "cell_type": "code",
      "source": [
        "from sklearn.model_selection import train_test_split\n",
        "from sklearn.linear_model import LinearRegression "
      ],
      "metadata": {
        "id": "8nrEII070R3d"
      },
      "execution_count": 11,
      "outputs": []
    },
    {
      "cell_type": "markdown",
      "source": [
        "## No historical data"
      ],
      "metadata": {
        "id": "iGe4sbvCzQ0u"
      }
    },
    {
      "cell_type": "code",
      "source": [
        "X = data.drop(columns='nuevos_contagios').copy()\n",
        "y = data['nuevos_contagios'].copy()\n",
        "\n",
        "X_train, X_test, y_train, y_test = train_test_split(X, y, test_size=0.6, shuffle=False)\n",
        "\n",
        "plt.figure(figsize=(10,10))\n",
        "plt.plot(y_train)\n",
        "plt.plot(y_test)\n",
        "plt.show()"
      ],
      "metadata": {
        "colab": {
          "base_uri": "https://localhost:8080/",
          "height": 592
        },
        "id": "VdtfzB7tRGjG",
        "outputId": "40d01f94-ceff-4010-9b64-19c6aefcd2f9"
      },
      "execution_count": 12,
      "outputs": [
        {
          "output_type": "display_data",
          "data": {
            "text/plain": [
              "<Figure size 720x720 with 1 Axes>"
            ],
            "image/png": "[encoded data removed]"
          },
          "metadata": {
            "needs_background": "light"
          }
        }
      ]
    },
    {
      "cell_type": "code",
      "source": [
        "reg = LinearRegression(fit_intercept=False)\n",
        "reg.fit(X_train, y_train)\n",
        "\n",
        "y_pred = reg.predict(X_test)\n",
        "\n",
        "plt.figure(figsize=(10,10))\n",
        "\n",
        "plt.plot(y_test.sort_index())\n",
        "plt.plot(pd.Series(y_pred, index=y_test.index).sort_index())\n",
        "plt.legend(['test','pred'])\n",
        "\n",
        "plt.show()"
      ],
      "metadata": {
        "id": "C03U7QaUzVOD",
        "colab": {
          "base_uri": "https://localhost:8080/",
          "height": 592
        },
        "outputId": "887b4355-d796-4352-86a2-4841bedc9b58"
      },
      "execution_count": 13,
      "outputs": [
        {
          "output_type": "display_data",
          "data": {
            "text/plain": [
              "<Figure size 720x720 with 1 Axes>"
            ],
            "image/png": "[encoded data removed]"
          },
          "metadata": {
            "needs_background": "light"
          }
        }
      ]
    },
    {
      "cell_type": "code",
      "source": [
        "from sklearn.model_selection import cross_val_score\n",
        "from sklearn.metrics import mean_squared_error, mean_absolute_error, r2_score\n",
        "\n",
        "print( 'R2 Regressor = {:.2f}'.format( r2_score(y_test, y_pred) ) )\n",
        "print( 'MAE Regressor = {:.2f}'.format( mean_absolute_error(y_test, y_pred) ) )\n",
        "print( 'MSE Regressor = {:.2f}'.format(mean_squared_error(y_test, y_pred)) )\n",
        "\n",
        "scores = cross_val_score(reg, X_test, y_test, cv=10)\n",
        "print(\"cross_val: %0.2f accuracy with a standard deviation of %0.2f\" % (scores.mean(), scores.std()))"
      ],
      "metadata": {
        "colab": {
          "base_uri": "https://localhost:8080/",
          "height": 0
        },
        "id": "19qIfJxBSDXa",
        "outputId": "96d90e6e-baa5-44c8-f4fe-a7ec12b8bc42"
      },
      "execution_count": 14,
      "outputs": [
        {
          "output_type": "stream",
          "name": "stdout",
          "text": [
            "R2 Regressor = -0.05\n",
            "MAE Regressor = 0.90\n",
            "MSE Regressor = 1.50\n",
            "cross_val: -117.26 accuracy with a standard deviation of 262.47\n"
          ]
        }
      ]
    },
    {
      "cell_type": "markdown",
      "source": [
        "## Add historical data"
      ],
      "metadata": {
        "id": "kbzgIplwRH7b"
      }
    },
    {
      "cell_type": "code",
      "source": [
        "X = data.drop(columns='nuevos_contagios').copy()\n",
        "X['previos_contagios'] = data['nuevos_contagios'].shift(periods=3)\n",
        "\n",
        "X = X.iloc[4:]\n",
        "\n",
        "y = data['nuevos_contagios'].copy().iloc[4:]\n",
        "\n",
        "X_train, X_test, y_train, y_test = train_test_split(X, y, test_size=0.6, shuffle=False)\n",
        "\n",
        "plt.figure()\n",
        "plt.plot(y_train)\n",
        "plt.plot(y_test)\n",
        "plt.show()"
      ],
      "metadata": {
        "colab": {
          "base_uri": "https://localhost:8080/",
          "height": 265
        },
        "id": "alO9IstqROhJ",
        "outputId": "10856e62-b5f5-4005-a1cf-6db723376cae"
      },
      "execution_count": 15,
      "outputs": [
        {
          "output_type": "display_data",
          "data": {
            "text/plain": [
              "<Figure size 432x288 with 1 Axes>"
            ],
            "image/png": "[encoded data removed]"
          },
          "metadata": {
            "needs_background": "light"
          }
        }
      ]
    },
    {
      "cell_type": "code",
      "source": [
        "reg = LinearRegression(fit_intercept=False)\n",
        "reg.fit(X_train, y_train)\n",
        "\n",
        "y_pred = reg.predict(X_test)\n",
        "\n",
        "plt.figure(figsize=(10,10))\n",
        "plt.plot(y_test.sort_index())\n",
        "plt.plot(pd.Series(y_pred, index=y_test.index).sort_index())\n",
        "plt.legend(['test','pred'])\n",
        "\n",
        "plt.show()"
      ],
      "metadata": {
        "colab": {
          "base_uri": "https://localhost:8080/",
          "height": 592
        },
        "outputId": "8c8caef2-4f2d-4572-aa20-4300c4b7dea9",
        "id": "qpk0XnUMR9Ju"
      },
      "execution_count": 16,
      "outputs": [
        {
          "output_type": "display_data",
          "data": {
            "text/plain": [
              "<Figure size 720x720 with 1 Axes>"
            ],
            "image/png": "[encoded data removed]"
          },
          "metadata": {
            "needs_background": "light"
          }
        }
      ]
    },
    {
      "cell_type": "code",
      "source": [
        "print( 'R2 Regressor = {:.2f}'.format( r2_score(y_test, y_pred) ) )\n",
        "print( 'MAE Regressor = {:.2f}'.format( mean_absolute_error(y_test, y_pred) ) )\n",
        "print( 'MSE Regressor = {:.2f}'.format(mean_squared_error(y_test, y_pred)) )\n",
        "\n",
        "scores = cross_val_score(reg, X_test, y_test, cv=10)\n",
        "print(\"cross_val: %0.2f accuracy with a standard deviation of %0.2f\" % (scores.mean(), scores.std()))\n",
        "\n",
        "a = pd.Series(y_pred, index=y_test.index)\n",
        "print(\" 'desfase' entre curvas es de: ~\", (a[ a == a.max()].index- y_test[ y_test == y_test.max() ].index).days )"
      ],
      "metadata": {
        "colab": {
          "base_uri": "https://localhost:8080/",
          "height": 0
        },
        "id": "eIiCcsOuSIQa",
        "outputId": "8e4f5142-de58-4fbb-f5c0-52fdeb744fce"
      },
      "execution_count": 17,
      "outputs": [
        {
          "output_type": "stream",
          "name": "stdout",
          "text": [
            "R2 Regressor = 0.88\n",
            "MAE Regressor = 0.18\n",
            "MSE Regressor = 0.17\n",
            "cross_val: -3.35 accuracy with a standard deviation of 7.80\n",
            " 'desfase' entre curvas es de: ~ Int64Index([3], dtype='int64')\n"
          ]
        }
      ]
    },
    {
      "cell_type": "markdown",
      "source": [
        "## test with older dates"
      ],
      "metadata": {
        "id": "2mJrvIWf23Wu"
      }
    },
    {
      "cell_type": "code",
      "source": [
        "N = 7\n",
        "X = data.drop(columns='nuevos_contagios').copy()\n",
        "X['previos_contagios'] = data['nuevos_contagios'].shift(periods=N-1)\n",
        "\n",
        "X = X.iloc[N:]\n",
        "\n",
        "y = data['nuevos_contagios'].copy().iloc[N:]\n",
        "\n",
        "X_train, X_test, y_train, y_test = train_test_split(X, y, test_size=0.6, shuffle=False)\n",
        "\n",
        "reg = LinearRegression(fit_intercept=False)\n",
        "reg.fit(X_train, y_train)\n",
        "\n",
        "y_pred = reg.predict(X_test)\n",
        "\n",
        "plt.figure(figsize=(10,10))\n",
        "plt.plot(y_test.sort_index())\n",
        "plt.plot(pd.Series(y_pred, index=y_test.index).sort_index())\n",
        "plt.legend(['test','pred'])\n",
        "\n",
        "plt.show()\n",
        "\n",
        "print( 'R2 Regressor = {:.2f}'.format( r2_score(y_test, y_pred) ) )\n",
        "print( 'MAE Regressor = {:.2f}'.format( mean_absolute_error(y_test, y_pred) ) )\n",
        "print( 'MSE Regressor = {:.2f}'.format(mean_squared_error(y_test, y_pred)) )\n",
        "\n",
        "scores = cross_val_score(reg, X_test, y_test, cv=10)\n",
        "print(\"cross_val: %0.2f accuracy with a standard deviation of %0.2f\" % (scores.mean(), scores.std()))"
      ],
      "metadata": {
        "colab": {
          "base_uri": "https://localhost:8080/",
          "height": 661
        },
        "id": "avEkg9uU0xea",
        "outputId": "ec07f783-8423-4f0c-f8ea-d7a947190ec1"
      },
      "execution_count": 18,
      "outputs": [
        {
          "output_type": "display_data",
          "data": {
            "text/plain": [
              "<Figure size 720x720 with 1 Axes>"
            ],
            "image/png": "[encoded data removed]"
          },
          "metadata": {
            "needs_background": "light"
          }
        },
        {
          "output_type": "stream",
          "name": "stdout",
          "text": [
            "R2 Regressor = 0.80\n",
            "MAE Regressor = 0.27\n",
            "MSE Regressor = 0.29\n",
            "cross_val: -7.24 accuracy with a standard deviation of 13.27\n"
          ]
        }
      ]
    },
    {
      "cell_type": "markdown",
      "source": [
        "## Generalización del modelo"
      ],
      "metadata": {
        "id": "CTytwU7ehqFM"
      }
    },
    {
      "cell_type": "code",
      "source": [
        "def train_comuna(nombre, train_ratio=0.4):\n",
        "  curr_data = pd.DataFrame({ \n",
        "    \"nuevos_contagios\":  cov_new[nombre],         # Cada 2/3 dias\n",
        "    \"previos_contagios\": cov_new[nombre].shift(),\n",
        "    \"pcrs_realizados\":   cant_pcr,                 # Todos los dias\n",
        "    \"camas_ocupadas\":    camas_criticas.ocupados,  # Todos los dias\n",
        "    \"variacion_salida\":  var_salidas[nombre],\n",
        "    \"paso_comuna\":       paso_a_paso[nombre]\n",
        "  }).iloc[1:]\n",
        "\n",
        "  # 1.\n",
        "  start_date, end_date = max([ i.index.min() for i in datasets.values() ]), min([ i.index.max() for i in datasets.values() ])\n",
        "  curr_data = curr_data.loc[start_date:end_date]\n",
        "  # 2\n",
        "  curr_data[\"nuevos_contagios\"] = curr_data[\"nuevos_contagios\"].interpolate(limit=3)\n",
        "  curr_data[\"variacion_salida\"] = curr_data[\"variacion_salida\"].interpolate(limit=3)\n",
        "  curr_data[\"paso_comuna\"]      = curr_data[\"paso_comuna\"].fillna(method='ffill') \n",
        "\n",
        "  curr_data = curr_data.dropna()\n",
        "  curr_data = (curr_data - curr_data.mean()) / curr_data.std()\n",
        "\n",
        "  split_index = round(curr_data.shape[0] * train_ratio)\n",
        "\n",
        "  reg = LinearRegression(fit_intercept=False)\n",
        "  reg.fit(curr_data.drop(columns=\"nuevos_contagios\").iloc[:split_index] , curr_data[\"nuevos_contagios\"].iloc[:split_index])\n",
        "\n",
        "  return reg\n",
        "\n",
        "def train_all(train_ratio=0.4):\n",
        "  comunas = DataProduct1.Comuna.drop_duplicates()\n",
        "\n",
        "  regs = {}\n",
        "  for i in comunas:\n",
        "    if i in ['san pedro']:\n",
        "      continue\n",
        "\n",
        "    regs[i] = train_comuna(i, train_ratio)\n",
        "  return regs\n",
        "\n",
        "train_all()"
      ],
      "metadata": {
        "id": "4dj8hjZehutW",
        "colab": {
          "base_uri": "https://localhost:8080/",
          "height": 0
        },
        "outputId": "53cf37ed-cbe1-4b31-ec8c-a31f51224a85"
      },
      "execution_count": 67,
      "outputs": [
        {
          "output_type": "execute_result",
          "data": {
            "text/plain": [
              "{'alhue': LinearRegression(fit_intercept=False),\n",
              " 'buin': LinearRegression(fit_intercept=False),\n",
              " 'calera de tango': LinearRegression(fit_intercept=False),\n",
              " 'cerrillos': LinearRegression(fit_intercept=False),\n",
              " 'cerro navia': LinearRegression(fit_intercept=False),\n",
              " 'colina': LinearRegression(fit_intercept=False),\n",
              " 'conchali': LinearRegression(fit_intercept=False),\n",
              " 'curacavi': LinearRegression(fit_intercept=False),\n",
              " 'el bosque': LinearRegression(fit_intercept=False),\n",
              " 'el monte': LinearRegression(fit_intercept=False),\n",
              " 'estacion central': LinearRegression(fit_intercept=False),\n",
              " 'huechuraba': LinearRegression(fit_intercept=False),\n",
              " 'independencia': LinearRegression(fit_intercept=False),\n",
              " 'isla de maipo': LinearRegression(fit_intercept=False),\n",
              " 'la cisterna': LinearRegression(fit_intercept=False),\n",
              " 'la florida': LinearRegression(fit_intercept=False),\n",
              " 'la granja': LinearRegression(fit_intercept=False),\n",
              " 'la pintana': LinearRegression(fit_intercept=False),\n",
              " 'la reina': LinearRegression(fit_intercept=False),\n",
              " 'lampa': LinearRegression(fit_intercept=False),\n",
              " 'las condes': LinearRegression(fit_intercept=False),\n",
              " 'lo barnechea': LinearRegression(fit_intercept=False),\n",
              " 'lo espejo': LinearRegression(fit_intercept=False),\n",
              " 'lo prado': LinearRegression(fit_intercept=False),\n",
              " 'macul': LinearRegression(fit_intercept=False),\n",
              " 'maipu': LinearRegression(fit_intercept=False),\n",
              " 'maria pinto': LinearRegression(fit_intercept=False),\n",
              " 'melipilla': LinearRegression(fit_intercept=False),\n",
              " 'nunoa': LinearRegression(fit_intercept=False),\n",
              " 'padre hurtado': LinearRegression(fit_intercept=False),\n",
              " 'paine': LinearRegression(fit_intercept=False),\n",
              " 'pedro aguirre cerda': LinearRegression(fit_intercept=False),\n",
              " 'penaflor': LinearRegression(fit_intercept=False),\n",
              " 'penalolen': LinearRegression(fit_intercept=False),\n",
              " 'pirque': LinearRegression(fit_intercept=False),\n",
              " 'providencia': LinearRegression(fit_intercept=False),\n",
              " 'pudahuel': LinearRegression(fit_intercept=False),\n",
              " 'puente alto': LinearRegression(fit_intercept=False),\n",
              " 'quilicura': LinearRegression(fit_intercept=False),\n",
              " 'quinta normal': LinearRegression(fit_intercept=False),\n",
              " 'recoleta': LinearRegression(fit_intercept=False),\n",
              " 'renca': LinearRegression(fit_intercept=False),\n",
              " 'san bernardo': LinearRegression(fit_intercept=False),\n",
              " 'san joaquin': LinearRegression(fit_intercept=False),\n",
              " 'san jose de maipo': LinearRegression(fit_intercept=False),\n",
              " 'san miguel': LinearRegression(fit_intercept=False),\n",
              " 'san ramon': LinearRegression(fit_intercept=False),\n",
              " 'santiago': LinearRegression(fit_intercept=False),\n",
              " 'talagante': LinearRegression(fit_intercept=False),\n",
              " 'tiltil': LinearRegression(fit_intercept=False),\n",
              " 'vitacura': LinearRegression(fit_intercept=False)}"
            ]
          },
          "metadata": {},
          "execution_count": 67
        }
      ]
    },
    {
      "cell_type": "markdown",
      "source": [
        "# Checking $\\Delta$Contagios vs cambio de pasos"
      ],
      "metadata": {
        "id": "sPF4-R-xt-OC"
      }
    },
    {
      "cell_type": "code",
      "source": [
        "#cambios =  paso_a_paso['santiago'][ (paso_a_paso['santiago'] == 2) & (paso_a_paso['santiago'].shift() == 1) ]\n",
        "\n",
        "#paso_a_paso[ cambios == -1 ]\n",
        "#paso_a_paso['santiago'].loc[ (paso_a_paso['santiago'] == 2) & (cambios[cambios == -1].index) ]\n",
        "#paso_a_paso[paso_a_paso['santiago'] == 2]\n",
        "\n",
        "#paso_a_paso['santiago'].loc[ cambios[cambios == -1].index ]\n",
        "\n",
        "#paso_a_paso['santiago'][ (cambios == -1) & (paso_a_paso['santiago'] == 1) ]\n",
        "\n",
        "#pd.DataFrame({ 'old': paso_a_paso.loc[cambios], 'new':  paso_a_paso.loc[cambios].shift() })\n",
        "\n",
        "a = { i: paso_a_paso[i][ paso_a_paso[i] - paso_a_paso[i].shift() == -1 ].iloc[1:] for i in paso_a_paso.columns }\n",
        "\n",
        "a['santiago']"
      ],
      "metadata": {
        "colab": {
          "base_uri": "https://localhost:8080/",
          "height": 0
        },
        "id": "COGdOkb6t-6z",
        "outputId": "d7a2a316-c258-43ff-e06a-d5d2c10babee"
      },
      "execution_count": 151,
      "outputs": [
        {
          "output_type": "execute_result",
          "data": {
            "text/plain": [
              "fecha_inicio\n",
              "2020-12-14    2.0\n",
              "2021-03-08    2.0\n",
              "2021-03-22    1.0\n",
              "2021-06-07    1.0\n",
              "2021-11-01    3.0\n",
              "2022-01-24    3.0\n",
              "Name: santiago, dtype: float64"
            ]
          },
          "metadata": {},
          "execution_count": 151
        }
      ]
    }
  ]
}